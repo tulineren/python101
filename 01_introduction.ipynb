{
  "nbformat": 4,
  "nbformat_minor": 0,
  "metadata": {
    "colab": {
      "provenance": []
    },
    "kernelspec": {
      "name": "python3",
      "display_name": "Python 3"
    },
    "language_info": {
      "name": "python"
    }
  },
  "cells": [
    {
      "cell_type": "code",
      "execution_count": 1,
      "metadata": {
        "colab": {
          "base_uri": "https://localhost:8080/"
        },
        "id": "NqCOrcz-VRWF",
        "outputId": "ffe98f40-f6d2-4fde-81a0-0468981cc381"
      },
      "outputs": [
        {
          "output_type": "stream",
          "name": "stdout",
          "text": [
            "Ali'nin evi\n"
          ]
        }
      ],
      "source": [
        "print(\"Ali'nin evi\")"
      ]
    },
    {
      "cell_type": "code",
      "source": [
        "print('Ali\\'nin evi') # \\(ters slash) kaçış karakteridir. kaçış karakterinden sonra gelen kesme işareti alelade bir işaret, stringi bitiren bir ifade değil.\n",
        ""
      ],
      "metadata": {
        "colab": {
          "base_uri": "https://localhost:8080/"
        },
        "id": "cRMmiXi4VkIc",
        "outputId": "96ce2b88-b6f2-40c8-b1ee-387163830720"
      },
      "execution_count": 2,
      "outputs": [
        {
          "output_type": "stream",
          "name": "stdout",
          "text": [
            "Ali'nin evi\n"
          ]
        }
      ]
    },
    {
      "cell_type": "code",
      "source": [
        "print(\"\"\"Merhaba\n",
        "Dünya\"\"\") #Çok satırlı metinleri 3 tırnak kullanarak yazabiliriz."
      ],
      "metadata": {
        "colab": {
          "base_uri": "https://localhost:8080/"
        },
        "id": "V2JnR-7FVtN6",
        "outputId": "1afce4e0-a385-440b-d3ca-2334e2b8e828"
      },
      "execution_count": 3,
      "outputs": [
        {
          "output_type": "stream",
          "name": "stdout",
          "text": [
            "Merhaba\n",
            "Dünya\n"
          ]
        }
      ]
    },
    {
      "cell_type": "code",
      "source": [
        "print(\"Merhaba\\t\\tDünya\") # \\t tab(sekme) kelimeler arasında kaç boşluk olacağını ayarlar."
      ],
      "metadata": {
        "colab": {
          "base_uri": "https://localhost:8080/"
        },
        "id": "HHwPLa4JVvzq",
        "outputId": "debbb212-0e51-47b7-c22d-545df11eb0b3"
      },
      "execution_count": 4,
      "outputs": [
        {
          "output_type": "stream",
          "name": "stdout",
          "text": [
            "Merhaba\t\tDünya\n"
          ]
        }
      ]
    },
    {
      "cell_type": "code",
      "source": [
        "print(\"Benim adım\",\"Ferhat Yılmaz\",\"Ben bir rapçiyim\", sep=\"=\")# sep= her bir parametre arasına \"=\" işareti koyar.\n",
        ""
      ],
      "metadata": {
        "colab": {
          "base_uri": "https://localhost:8080/"
        },
        "id": "umrL_0JZVyhS",
        "outputId": "810fbb78-f6c0-4f39-af8a-2f8421106197"
      },
      "execution_count": 5,
      "outputs": [
        {
          "output_type": "stream",
          "name": "stdout",
          "text": [
            "Benim adım=Ferhat Yılmaz=Ben bir rapçiyim\n"
          ]
        }
      ]
    },
    {
      "cell_type": "code",
      "source": [
        "print(\"Mustafa\")# printleri alt alta yazınca çıktılar da alt alta yazıyor\n",
        "print(\"Kemal\")\n",
        "print(\"Atatürk\")"
      ],
      "metadata": {
        "colab": {
          "base_uri": "https://localhost:8080/"
        },
        "id": "dYTEFM3SV17T",
        "outputId": "9e47935d-fb02-4b3f-d42a-22fa2fdee65a"
      },
      "execution_count": 7,
      "outputs": [
        {
          "output_type": "stream",
          "name": "stdout",
          "text": [
            "Mustafa\n",
            "Kemal\n",
            "Atatürk\n"
          ]
        }
      ]
    },
    {
      "cell_type": "code",
      "source": [
        "print(\"Mustafa\",end=\"\")# end=\"\" komutu o satırla bir alttaki satırı yan yana yazar.\n",
        "print(\"Kemal\")\n",
        "print(\"Atatürk\")"
      ],
      "metadata": {
        "colab": {
          "base_uri": "https://localhost:8080/"
        },
        "id": "Jl08ndrjV65h",
        "outputId": "f0615ef9-00d1-4844-b7fc-b9bd0f77446b"
      },
      "execution_count": 8,
      "outputs": [
        {
          "output_type": "stream",
          "name": "stdout",
          "text": [
            "MustafaKemal\n",
            "Atatürk\n"
          ]
        }
      ]
    }
  ]
}