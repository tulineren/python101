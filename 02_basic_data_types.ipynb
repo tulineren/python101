{
  "nbformat": 4,
  "nbformat_minor": 0,
  "metadata": {
    "colab": {
      "provenance": []
    },
    "kernelspec": {
      "name": "python3",
      "display_name": "Python 3"
    },
    "language_info": {
      "name": "python"
    }
  },
  "cells": [
    {
      "cell_type": "code",
      "execution_count": 1,
      "metadata": {
        "id": "349cbsYFWRxX"
      },
      "outputs": [],
      "source": [
        "isim = \"İsmet İnönü\" #string"
      ]
    },
    {
      "cell_type": "code",
      "source": [
        "isim #değişkeni yazıp çağırabiliriz"
      ],
      "metadata": {
        "colab": {
          "base_uri": "https://localhost:8080/",
          "height": 35
        },
        "id": "lvNyHISqWfSl",
        "outputId": "0a248611-e6e0-4dae-9afa-578815c5a600"
      },
      "execution_count": 2,
      "outputs": [
        {
          "output_type": "execute_result",
          "data": {
            "text/plain": [
              "'İsmet İnönü'"
            ],
            "application/vnd.google.colaboratory.intrinsic+json": {
              "type": "string"
            }
          },
          "metadata": {},
          "execution_count": 2
        }
      ]
    },
    {
      "cell_type": "code",
      "source": [
        "print(isim) #bu şekilde de yazabiliriz"
      ],
      "metadata": {
        "colab": {
          "base_uri": "https://localhost:8080/"
        },
        "id": "jAxRDIdvWiuG",
        "outputId": "59775b2f-dbda-4b22-e942-e34da8662571"
      },
      "execution_count": 3,
      "outputs": [
        {
          "output_type": "stream",
          "name": "stdout",
          "text": [
            "İsmet İnönü\n"
          ]
        }
      ]
    },
    {
      "cell_type": "code",
      "source": [
        "dogum = 2004 #integer\n",
        "print(type(dogum)) #type() veri tipini verir."
      ],
      "metadata": {
        "colab": {
          "base_uri": "https://localhost:8080/"
        },
        "id": "Tahi-xWjWk2S",
        "outputId": "d4615d8d-f402-42c2-c02d-9704aa14cbff"
      },
      "execution_count": 4,
      "outputs": [
        {
          "output_type": "stream",
          "name": "stdout",
          "text": [
            "<class 'int'>\n"
          ]
        }
      ]
    },
    {
      "cell_type": "code",
      "source": [
        "pi = 3.14 #float"
      ],
      "metadata": {
        "id": "ruXMU6vwWm-2"
      },
      "execution_count": 5,
      "outputs": []
    },
    {
      "cell_type": "code",
      "source": [
        "borc = None #yok, olmayan bir şey"
      ],
      "metadata": {
        "id": "48u76VIgWn9m"
      },
      "execution_count": 6,
      "outputs": []
    },
    {
      "cell_type": "code",
      "source": [
        "evli = True #booling, mantıksal değerler"
      ],
      "metadata": {
        "id": "ZmQJWnECWoAh"
      },
      "execution_count": 7,
      "outputs": []
    },
    {
      "cell_type": "code",
      "source": [
        "cocuk = False #pythonda büyük harfla başlar."
      ],
      "metadata": {
        "id": "ya6-g_NLWoDk"
      },
      "execution_count": 8,
      "outputs": []
    },
    {
      "cell_type": "code",
      "source": [
        "rapciler = [\"Ezhel\",\"Uzi\",\"Killa\",\"Ceza\",1990,True] #Köşeli parantez liste oluşturmak için kullanılır. #Liste\n",
        ""
      ],
      "metadata": {
        "id": "1V6BNaLiWoGa"
      },
      "execution_count": 9,
      "outputs": []
    },
    {
      "cell_type": "code",
      "source": [
        "veriler = (\"admin\",1,\"11891\") #Tuple'lar (Tap()) normal parantezle oluşturulur. #tuple demet\n",
        "#Tuple, listeye göre daha güvenilir veri tipidir. Tuple dışarıdan manipülasyona açık değildir, liste dışardan manipülasyona açıktır."
      ],
      "metadata": {
        "id": "rLmiFmoYW1Aq"
      },
      "execution_count": 10,
      "outputs": []
    },
    {
      "cell_type": "code",
      "source": [
        "sozluk = {\n",
        "    \"ball\":\"top\",\n",
        "    \"music\":\"müzik\",\n",
        "    \"sea\":\"deniz\"\n",
        "}#sözlük"
      ],
      "metadata": {
        "id": "wWnUrIHMW1Db"
      },
      "execution_count": 11,
      "outputs": []
    },
    {
      "cell_type": "code",
      "source": [
        "kume={\"elma\",\"armut\",\"kiraz\"}#set küme"
      ],
      "metadata": {
        "id": "djGJih3MW-Xn"
      },
      "execution_count": 12,
      "outputs": []
    }
  ]
}