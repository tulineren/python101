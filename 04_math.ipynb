{
  "nbformat": 4,
  "nbformat_minor": 0,
  "metadata": {
    "colab": {
      "provenance": []
    },
    "kernelspec": {
      "name": "python3",
      "display_name": "Python 3"
    },
    "language_info": {
      "name": "python"
    }
  },
  "cells": [
    {
      "cell_type": "markdown",
      "source": [
        "# **NÜMERİK İFADELER VE MATEMATİKSEL İŞLEMLER**"
      ],
      "metadata": {
        "id": "q3ifsLSugn2o"
      }
    },
    {
      "cell_type": "code",
      "source": [
        "cumhuriyet = 1923 #int\n",
        "pi = 3.14 #float"
      ],
      "metadata": {
        "id": "LYwvKlkegqx6"
      },
      "execution_count": 1,
      "outputs": []
    },
    {
      "cell_type": "code",
      "source": [
        "int(pi)"
      ],
      "metadata": {
        "colab": {
          "base_uri": "https://localhost:8080/"
        },
        "id": "HAo0UYingvAb",
        "outputId": "30874593-df7d-4667-aa2a-d3bb63a7df9e"
      },
      "execution_count": 2,
      "outputs": [
        {
          "output_type": "execute_result",
          "data": {
            "text/plain": [
              "3"
            ]
          },
          "metadata": {},
          "execution_count": 2
        }
      ]
    },
    {
      "cell_type": "code",
      "source": [
        "int(\"10\")"
      ],
      "metadata": {
        "colab": {
          "base_uri": "https://localhost:8080/"
        },
        "id": "Dj2lG_JSgvDG",
        "outputId": "4f6e15ab-b2da-4ef9-9478-0b01e0c3429f"
      },
      "execution_count": 3,
      "outputs": [
        {
          "output_type": "execute_result",
          "data": {
            "text/plain": [
              "10"
            ]
          },
          "metadata": {},
          "execution_count": 3
        }
      ]
    },
    {
      "cell_type": "code",
      "source": [
        "float(cumhuriyet)"
      ],
      "metadata": {
        "colab": {
          "base_uri": "https://localhost:8080/"
        },
        "id": "A-QT8wTRgvFu",
        "outputId": "979a5931-e0db-410b-9043-80c6bf6e72b2"
      },
      "execution_count": 4,
      "outputs": [
        {
          "output_type": "execute_result",
          "data": {
            "text/plain": [
              "1923.0"
            ]
          },
          "metadata": {},
          "execution_count": 4
        }
      ]
    },
    {
      "cell_type": "code",
      "source": [
        "sayi1 = 1903\n",
        "sayi2 = 13"
      ],
      "metadata": {
        "id": "0Hl7JQHvgvMO"
      },
      "execution_count": 5,
      "outputs": []
    },
    {
      "cell_type": "code",
      "source": [
        "toplam = sayi1 + sayi2"
      ],
      "metadata": {
        "id": "QcktttVGg6eT"
      },
      "execution_count": 6,
      "outputs": []
    },
    {
      "cell_type": "code",
      "source": [
        "toplam"
      ],
      "metadata": {
        "colab": {
          "base_uri": "https://localhost:8080/"
        },
        "id": "AE0ab_Njg6hD",
        "outputId": "dca60999-7f88-4332-978b-b03b316ad94c"
      },
      "execution_count": 7,
      "outputs": [
        {
          "output_type": "execute_result",
          "data": {
            "text/plain": [
              "1916"
            ]
          },
          "metadata": {},
          "execution_count": 7
        }
      ]
    },
    {
      "cell_type": "code",
      "source": [
        "print(sayi1,\"ve\",sayi2,\"değerlerinin toplamı:\",toplam)"
      ],
      "metadata": {
        "colab": {
          "base_uri": "https://localhost:8080/"
        },
        "id": "DmOruy8xg6jx",
        "outputId": "41482d9a-f15f-4074-e4b4-50d9af3920f7"
      },
      "execution_count": 8,
      "outputs": [
        {
          "output_type": "stream",
          "name": "stdout",
          "text": [
            "1903 ve 13 değerlerinin toplamı: 1916\n"
          ]
        }
      ]
    },
    {
      "cell_type": "code",
      "source": [
        "sayi1*sayi2"
      ],
      "metadata": {
        "colab": {
          "base_uri": "https://localhost:8080/"
        },
        "id": "-GazWVn0g6mz",
        "outputId": "dd121410-a856-40e7-fe2e-d5d8c20a8426"
      },
      "execution_count": 9,
      "outputs": [
        {
          "output_type": "execute_result",
          "data": {
            "text/plain": [
              "24739"
            ]
          },
          "metadata": {},
          "execution_count": 9
        }
      ]
    },
    {
      "cell_type": "code",
      "source": [
        "sayi2**2 # ** kuvvet alır"
      ],
      "metadata": {
        "colab": {
          "base_uri": "https://localhost:8080/"
        },
        "id": "GX85EtIChFu4",
        "outputId": "fcb5ba1f-2143-4db7-bce7-94f957a3416d"
      },
      "execution_count": 10,
      "outputs": [
        {
          "output_type": "execute_result",
          "data": {
            "text/plain": [
              "169"
            ]
          },
          "metadata": {},
          "execution_count": 10
        }
      ]
    },
    {
      "cell_type": "code",
      "source": [
        "pow(sayi2,2) #fonksiyon kullanarak da sayının kuvvetini alabiliriz."
      ],
      "metadata": {
        "colab": {
          "base_uri": "https://localhost:8080/"
        },
        "id": "5y7EX4exhGrH",
        "outputId": "6d037b46-9dc6-47b6-c041-50d13be70dcc"
      },
      "execution_count": 11,
      "outputs": [
        {
          "output_type": "execute_result",
          "data": {
            "text/plain": [
              "169"
            ]
          },
          "metadata": {},
          "execution_count": 11
        }
      ]
    },
    {
      "cell_type": "code",
      "source": [
        "199/19"
      ],
      "metadata": {
        "colab": {
          "base_uri": "https://localhost:8080/"
        },
        "id": "sjd1Qc9ZhGzV",
        "outputId": "3be165d1-4c70-4ba8-a7a5-59f5d7834b37"
      },
      "execution_count": 12,
      "outputs": [
        {
          "output_type": "execute_result",
          "data": {
            "text/plain": [
              "10.473684210526315"
            ]
          },
          "metadata": {},
          "execution_count": 12
        }
      ]
    },
    {
      "cell_type": "code",
      "source": [
        "sayi1/sayi2"
      ],
      "metadata": {
        "colab": {
          "base_uri": "https://localhost:8080/"
        },
        "id": "3aefOB5OhG2A",
        "outputId": "a13b0576-429d-468e-af30-de96569c21b2"
      },
      "execution_count": 13,
      "outputs": [
        {
          "output_type": "execute_result",
          "data": {
            "text/plain": [
              "146.3846153846154"
            ]
          },
          "metadata": {},
          "execution_count": 13
        }
      ]
    },
    {
      "cell_type": "code",
      "source": [
        "sayi1//sayi2 #bölümün sadece tam kısmını görmek için 2 slash(//) kullanılır."
      ],
      "metadata": {
        "colab": {
          "base_uri": "https://localhost:8080/"
        },
        "id": "e6l2kJUPhG42",
        "outputId": "5c978045-e5bb-41ee-d620-e4863b8af021"
      },
      "execution_count": 14,
      "outputs": [
        {
          "output_type": "execute_result",
          "data": {
            "text/plain": [
              "146"
            ]
          },
          "metadata": {},
          "execution_count": 14
        }
      ]
    },
    {
      "cell_type": "code",
      "source": [
        "sayi1%sayi2 #mod alma"
      ],
      "metadata": {
        "colab": {
          "base_uri": "https://localhost:8080/"
        },
        "id": "Y9zuspAvhG7T",
        "outputId": "955f31d4-d154-4426-83d7-9eaeb33ee507"
      },
      "execution_count": 15,
      "outputs": [
        {
          "output_type": "execute_result",
          "data": {
            "text/plain": [
              "5"
            ]
          },
          "metadata": {},
          "execution_count": 15
        }
      ]
    },
    {
      "cell_type": "code",
      "source": [
        "print(16//5) # //(çift slash) bölme işleminin sadece tam kısmını yazdırır."
      ],
      "metadata": {
        "colab": {
          "base_uri": "https://localhost:8080/"
        },
        "id": "-DsIQDUKhG91",
        "outputId": "e1f6842e-3f58-4d26-e234-575dcc3a61bd"
      },
      "execution_count": 16,
      "outputs": [
        {
          "output_type": "stream",
          "name": "stdout",
          "text": [
            "3\n"
          ]
        }
      ]
    },
    {
      "cell_type": "code",
      "source": [
        "print(abs(-3.16)) #mutlak değer"
      ],
      "metadata": {
        "colab": {
          "base_uri": "https://localhost:8080/"
        },
        "id": "WWZEgiE-hFxt",
        "outputId": "32b622da-a01e-4897-e952-c69b12d0819c"
      },
      "execution_count": 17,
      "outputs": [
        {
          "output_type": "stream",
          "name": "stdout",
          "text": [
            "3.16\n"
          ]
        }
      ]
    },
    {
      "cell_type": "code",
      "source": [
        "sayi = 5.3978982\n",
        "print(round(sayi,3)) #round() sayıyı yuvarlar.Virgülden sonra 3 basamak alır."
      ],
      "metadata": {
        "colab": {
          "base_uri": "https://localhost:8080/"
        },
        "id": "-r2Dt_N4hUmV",
        "outputId": "c55d86c7-dc5f-4d55-9540-98c1bb251376"
      },
      "execution_count": 18,
      "outputs": [
        {
          "output_type": "stream",
          "name": "stdout",
          "text": [
            "5.398\n"
          ]
        }
      ]
    },
    {
      "cell_type": "code",
      "source": [
        "sayi1 = \"100\"\n",
        "sayi2 = 100\n",
        "sayi3 = int(sayi1) #string'i integer'a çevirdik.\n",
        "print(sayi2 == sayi3)"
      ],
      "metadata": {
        "colab": {
          "base_uri": "https://localhost:8080/"
        },
        "id": "7f3w12NDhUpV",
        "outputId": "f2759aff-4d19-4dc4-c8a1-189d4099dad9"
      },
      "execution_count": 19,
      "outputs": [
        {
          "output_type": "stream",
          "name": "stdout",
          "text": [
            "True\n"
          ]
        }
      ]
    },
    {
      "cell_type": "code",
      "source": [
        "sayi = 123\n",
        "sayi2 = str(sayi) #integer'ı string'e çevirdik.\n",
        "print(type(sayi2))"
      ],
      "metadata": {
        "colab": {
          "base_uri": "https://localhost:8080/"
        },
        "id": "UYdRm9k3hUsO",
        "outputId": "2effe29d-ccca-461f-f116-8d9b68701326"
      },
      "execution_count": 20,
      "outputs": [
        {
          "output_type": "stream",
          "name": "stdout",
          "text": [
            "<class 'str'>\n"
          ]
        }
      ]
    }
  ]
}