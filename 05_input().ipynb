{
  "nbformat": 4,
  "nbformat_minor": 0,
  "metadata": {
    "colab": {
      "provenance": []
    },
    "kernelspec": {
      "name": "python3",
      "display_name": "Python 3"
    },
    "language_info": {
      "name": "python"
    }
  },
  "cells": [
    {
      "cell_type": "markdown",
      "source": [
        "# **input() FONKSİYONU**\n",
        "Kullanıcıdan veri almak için kullanılır. Her zaman string bir değer döndürür."
      ],
      "metadata": {
        "id": "GRuBM-mXiY2O"
      }
    },
    {
      "cell_type": "code",
      "source": [
        "isim = input(\"Buraya isim giriniz : \")"
      ],
      "metadata": {
        "colab": {
          "base_uri": "https://localhost:8080/"
        },
        "id": "ogM9g3PYiccG",
        "outputId": "8709a04f-485d-49a7-f002-1a2322d1de4e"
      },
      "execution_count": 1,
      "outputs": [
        {
          "name": "stdout",
          "output_type": "stream",
          "text": [
            "Buraya isim giriniz : Hercai\n"
          ]
        }
      ]
    },
    {
      "cell_type": "code",
      "source": [
        "print(isim)"
      ],
      "metadata": {
        "colab": {
          "base_uri": "https://localhost:8080/"
        },
        "id": "Dd7ZIMq_icnl",
        "outputId": "ef30551b-1668-47bb-f54a-91c1c2905637"
      },
      "execution_count": 2,
      "outputs": [
        {
          "output_type": "stream",
          "name": "stdout",
          "text": [
            "Hercai\n"
          ]
        }
      ]
    },
    {
      "cell_type": "code",
      "source": [
        "sayi1 = input(\"İlk sayıyı giriniz : \")\n",
        "sayi2 = input(\"İkinci sayıyı giriniz : \")\n",
        "toplam = sayi1 + sayi2 # input() her zaman string bir değer döndürür. Bu yüzden sayıları toplamadı, yan yana yazdı.\n",
        "print(toplam)"
      ],
      "metadata": {
        "colab": {
          "base_uri": "https://localhost:8080/"
        },
        "id": "KzwpI44micrF",
        "outputId": "7ed3cc7d-9624-4edb-8b51-e6d79970625a"
      },
      "execution_count": 3,
      "outputs": [
        {
          "output_type": "stream",
          "name": "stdout",
          "text": [
            "İlk sayıyı giriniz : 67\n",
            "İkinci sayıyı giriniz : 78\n",
            "6778\n"
          ]
        }
      ]
    },
    {
      "cell_type": "code",
      "source": [
        "# @title Varsayılan başlık metni\n",
        "sayi1 = float(input(\"İlk sayıyı giriniz : \"))\n",
        "sayi2 = float(input(\"İkinci sayıyı giriniz : \"))\n",
        "toplam = sayi1 + sayi2 # input()'u floata dönüştürdük.\n",
        "print(toplam)"
      ],
      "metadata": {
        "colab": {
          "base_uri": "https://localhost:8080/"
        },
        "id": "Y3w6QPChjPXO",
        "outputId": "dc603c8e-6e22-4567-f0ff-361cb7791c8c"
      },
      "execution_count": 4,
      "outputs": [
        {
          "output_type": "stream",
          "name": "stdout",
          "text": [
            "İlk sayıyı giriniz : 45\n",
            "İkinci sayıyı giriniz : 69\n",
            "114.0\n"
          ]
        }
      ]
    },
    {
      "cell_type": "code",
      "source": [
        "sayi = int(input(\"Bir sayı giriniz : \"))\n",
        "faktoriyel = 1\n",
        "for i in range(1, sayi+1):\n",
        "  faktoriyel *= i\n",
        "print(f\"{sayi}! = {faktoriyel}\")"
      ],
      "metadata": {
        "colab": {
          "base_uri": "https://localhost:8080/"
        },
        "id": "WX4fE15JicyJ",
        "outputId": "9b5649ac-4bf4-4567-d710-df7fb1d7ea22"
      },
      "execution_count": 5,
      "outputs": [
        {
          "output_type": "stream",
          "name": "stdout",
          "text": [
            "Bir sayı giriniz : 8\n",
            "8! = 40320\n"
          ]
        }
      ]
    },
    {
      "cell_type": "code",
      "source": [
        "#Ekranden alınan bir sayını asal olup olmadığını kontrol eden program yazınız.\n",
        "sayi = int(input(\"Bir sayı giriniz :\"))\n",
        "for i in range(2,sayi):\n",
        "  if(sayi % i == 0):\n",
        "    print(f\"{sayi} sayısı asal değildir.\")\n",
        "    break\n",
        "else:\n",
        "  print(f\"{sayi} sayısı asaldır.\")"
      ],
      "metadata": {
        "colab": {
          "base_uri": "https://localhost:8080/"
        },
        "id": "J8Tn1PQjic6b",
        "outputId": "68dd9230-d620-4c21-b0f6-f6cd4ad7104d"
      },
      "execution_count": 6,
      "outputs": [
        {
          "output_type": "stream",
          "name": "stdout",
          "text": [
            "Bir sayı giriniz :56\n",
            "56 sayısı asal değildir.\n"
          ]
        }
      ]
    },
    {
      "cell_type": "code",
      "source": [
        "#Ekrandan alınan sayının kaç tane pozitif böleni olduğunu bulan programı kodlayınız.\n",
        "sayi = int(input(\"Bir sayı giriniz : \"))\n",
        "sayac = 0\n",
        "for i in range(1,sayi+1):\n",
        "  if(sayi % i == 0):\n",
        "    sayac += 1"
      ],
      "metadata": {
        "colab": {
          "base_uri": "https://localhost:8080/"
        },
        "id": "F7X_c87Qic9J",
        "outputId": "250633a7-a226-4b0a-a3cd-a174e932f330"
      },
      "execution_count": 7,
      "outputs": [
        {
          "name": "stdout",
          "output_type": "stream",
          "text": [
            "Bir sayı giriniz : 98\n"
          ]
        }
      ]
    },
    {
      "cell_type": "code",
      "source": [
        "#Ekrandan okunan bir sayının rakamları toplamını hesaplayan bir program yazınız.\n",
        "sayi = input(\"Bir sayı giriniz : \")\n",
        "rakamlar_toplami = 0\n",
        "for rakam in sayi:\n",
        "  rakamlar_toplami += int(rakam)\n",
        "print(f\"{sayi} sayısının rakamları toplamı : {rakamlar_toplami}\")"
      ],
      "metadata": {
        "colab": {
          "base_uri": "https://localhost:8080/"
        },
        "id": "v-ZIJRTsirbD",
        "outputId": "8bd6f813-186a-4420-bc8e-c19ccce4757b"
      },
      "execution_count": 8,
      "outputs": [
        {
          "output_type": "stream",
          "name": "stdout",
          "text": [
            "Bir sayı giriniz : 87\n",
            "87 sayısının rakamları toplamı : 15\n"
          ]
        }
      ]
    },
    {
      "cell_type": "code",
      "source": [
        "#Ekrandan okunan 5 sayının en küçüğünü ve en büyüğünü ekrana yazdıran program\n",
        "sayilar = []\n",
        "for i in range(1,6):\n",
        "  sayi = int(input(f\"{i}. sayıyı giriniz : \"))\n",
        "  sayilar.append(sayi)\n",
        "min_sayi = min(sayilar)\n",
        "max_sayi = max(sayilar)\n",
        "print(f\"En küçük sayı : {min_sayi}\")\n",
        "print(f\"En büyük sayı : {max_sayi}\")"
      ],
      "metadata": {
        "colab": {
          "base_uri": "https://localhost:8080/"
        },
        "id": "4OTz98Ckirdj",
        "outputId": "3ec47c70-6316-4bfb-911a-dab37eb796ca"
      },
      "execution_count": 9,
      "outputs": [
        {
          "output_type": "stream",
          "name": "stdout",
          "text": [
            "1. sayıyı giriniz : 76\n",
            "2. sayıyı giriniz : 24\n",
            "3. sayıyı giriniz : 3\n",
            "4. sayıyı giriniz : 12\n",
            "5. sayıyı giriniz : 45\n",
            "En küçük sayı : 3\n",
            "En büyük sayı : 76\n"
          ]
        }
      ]
    },
    {
      "cell_type": "code",
      "source": [
        "#Ekrandan okunan bir sayının herhangi bir sayının karesi olup olmadığını kontrol eden kod\n",
        "sayi = int(input(\"Bir sayı giriniz : \"))\n",
        "if(sayi ** 0.5 == int(sayi ** 0.5)):\n",
        "  print(f\"{sayi} sayısı bir tam sayının karesidir.\")\n",
        "else:\n",
        "  print(f\"{sayi} sayısı bir tam sayının karesi değildir.\")"
      ],
      "metadata": {
        "colab": {
          "base_uri": "https://localhost:8080/"
        },
        "id": "kMDBchs6ixYW",
        "outputId": "e1de597e-8046-49ba-8bc9-ff50d9bd8c0f"
      },
      "execution_count": 10,
      "outputs": [
        {
          "output_type": "stream",
          "name": "stdout",
          "text": [
            "Bir sayı giriniz : 90\n",
            "90 sayısı bir tam sayının karesi değildir.\n"
          ]
        }
      ]
    },
    {
      "cell_type": "code",
      "source": [
        "#Ekrandan okunan bir metinde hangi harfin kaç kere kullanıldığını gösteren kod\n",
        "metin = input(\"Bir metin giriniz : \")\n",
        "sozluk = dict()\n",
        "for harf in metin:\n",
        "  if harf in sozluk:\n",
        "    sozluk[harf] += 1\n",
        "  else:\n",
        "    sozluk[harf] = 1\n",
        "for harf, adet in sozluk.items():\n",
        "  print(harf, adet)"
      ],
      "metadata": {
        "colab": {
          "base_uri": "https://localhost:8080/"
        },
        "id": "BMcYgaVIizX5",
        "outputId": "8dfac3b0-6e1b-4441-d23c-69242a6e9ead"
      },
      "execution_count": 11,
      "outputs": [
        {
          "output_type": "stream",
          "name": "stdout",
          "text": [
            "Bir metin giriniz : programlama\n",
            "p 1\n",
            "r 2\n",
            "o 1\n",
            "g 1\n",
            "a 3\n",
            "m 2\n",
            "l 1\n"
          ]
        }
      ]
    },
    {
      "cell_type": "code",
      "source": [
        "#Ekrandan okunan bir metinde a harflerini büyük yapan programı yazınız.\n",
        "metin = input(\"Bir metin giriniz : \")\n",
        "metin2 = \"\"\n",
        "for harf in metin:\n",
        "  if harf == \"a\":\n",
        "    metin2 += \"A\"\n",
        "  else:\n",
        "    metin2 += harf\n",
        "print(metin2)"
      ],
      "metadata": {
        "colab": {
          "base_uri": "https://localhost:8080/"
        },
        "id": "x0ChzsxiizbE",
        "outputId": "dd241bd1-67ec-4895-9f1b-6b22b946a347"
      },
      "execution_count": 12,
      "outputs": [
        {
          "output_type": "stream",
          "name": "stdout",
          "text": [
            "Bir metin giriniz : matematiksel\n",
            "mAtemAtiksel\n"
          ]
        }
      ]
    }
  ]
}