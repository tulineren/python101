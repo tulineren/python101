{
  "nbformat": 4,
  "nbformat_minor": 0,
  "metadata": {
    "colab": {
      "provenance": []
    },
    "kernelspec": {
      "name": "python3",
      "display_name": "Python 3"
    },
    "language_info": {
      "name": "python"
    }
  },
  "cells": [
    {
      "cell_type": "markdown",
      "source": [
        "# **LİSTE VE METOTLARI**"
      ],
      "metadata": {
        "id": "DdqHlD-0k-zo"
      }
    },
    {
      "cell_type": "code",
      "source": [
        "sayilar = [1,2,3,4,5,6] #liste yapısı"
      ],
      "metadata": {
        "id": "Dvj2EOuKlDM9"
      },
      "execution_count": 1,
      "outputs": []
    },
    {
      "cell_type": "code",
      "source": [
        "type(sayilar) #type: veri tipi veren fonksiyon"
      ],
      "metadata": {
        "colab": {
          "base_uri": "https://localhost:8080/"
        },
        "id": "cKdx63TolDPv",
        "outputId": "ae6d6e7f-9be5-44b5-9cf1-b114c20e5e3e"
      },
      "execution_count": 2,
      "outputs": [
        {
          "output_type": "execute_result",
          "data": {
            "text/plain": [
              "list"
            ]
          },
          "metadata": {},
          "execution_count": 2
        }
      ]
    },
    {
      "cell_type": "code",
      "source": [
        "sayilar1 = [2,5.6,\"ders\",[9.33,12]]"
      ],
      "metadata": {
        "id": "mrcTxVLdlDSX"
      },
      "execution_count": 3,
      "outputs": []
    },
    {
      "cell_type": "code",
      "source": [
        "len(sayilar1) #len() fonksiyonu eleman sayısını verir."
      ],
      "metadata": {
        "colab": {
          "base_uri": "https://localhost:8080/"
        },
        "id": "DgwaF58DlDXW",
        "outputId": "14668cb8-0f0f-472e-ba78-2d87779b6ae9"
      },
      "execution_count": 4,
      "outputs": [
        {
          "output_type": "execute_result",
          "data": {
            "text/plain": [
              "4"
            ]
          },
          "metadata": {},
          "execution_count": 4
        }
      ]
    },
    {
      "cell_type": "code",
      "source": [
        "print(sayilar1[2:]) #2. indeksten başla sona kadar yazdır."
      ],
      "metadata": {
        "colab": {
          "base_uri": "https://localhost:8080/"
        },
        "id": "Js6w7YLglDbL",
        "outputId": "1d466d91-877f-4a32-b483-7c6403dfc277"
      },
      "execution_count": 5,
      "outputs": [
        {
          "output_type": "stream",
          "name": "stdout",
          "text": [
            "['ders', [9.33, 12]]\n"
          ]
        }
      ]
    },
    {
      "cell_type": "code",
      "source": [
        "print(sayilar1[0:2]) #0. indeksten başla 2. indekse kadar yazdır, 2. indeks dahil değil"
      ],
      "metadata": {
        "colab": {
          "base_uri": "https://localhost:8080/"
        },
        "id": "8LmIt3UllDeK",
        "outputId": "89c647ee-6090-4f22-ed33-68ddb775e76b"
      },
      "execution_count": 6,
      "outputs": [
        {
          "output_type": "stream",
          "name": "stdout",
          "text": [
            "[2, 5.6]\n"
          ]
        }
      ]
    },
    {
      "cell_type": "code",
      "source": [
        "isim = \"Tülin Eren\""
      ],
      "metadata": {
        "id": "daRw2QyLlDhS"
      },
      "execution_count": 7,
      "outputs": []
    },
    {
      "cell_type": "code",
      "source": [
        "len(isim) #string'de karakter sayısını sayar(boşluğu da sayar) boşluklar da bir karakterdir"
      ],
      "metadata": {
        "colab": {
          "base_uri": "https://localhost:8080/"
        },
        "id": "fd8DkTnwlShj",
        "outputId": "5953b6d3-e1e8-4958-b190-d63ce3e42547"
      },
      "execution_count": 8,
      "outputs": [
        {
          "output_type": "execute_result",
          "data": {
            "text/plain": [
              "10"
            ]
          },
          "metadata": {},
          "execution_count": 8
        }
      ]
    },
    {
      "cell_type": "code",
      "source": [
        "sayilar1[3][0]"
      ],
      "metadata": {
        "colab": {
          "base_uri": "https://localhost:8080/"
        },
        "id": "9JFmsN2plSkb",
        "outputId": "4ce98248-d231-48fa-bd3b-6582a48352a7"
      },
      "execution_count": 9,
      "outputs": [
        {
          "output_type": "execute_result",
          "data": {
            "text/plain": [
              "9.33"
            ]
          },
          "metadata": {},
          "execution_count": 9
        }
      ]
    },
    {
      "cell_type": "code",
      "source": [
        "sayilar1"
      ],
      "metadata": {
        "colab": {
          "base_uri": "https://localhost:8080/"
        },
        "id": "DkYo-lqMlSnU",
        "outputId": "98ba4ba7-feb0-44de-972b-6fffee18f06e"
      },
      "execution_count": 10,
      "outputs": [
        {
          "output_type": "execute_result",
          "data": {
            "text/plain": [
              "[2, 5.6, 'ders', [9.33, 12]]"
            ]
          },
          "metadata": {},
          "execution_count": 10
        }
      ]
    },
    {
      "cell_type": "code",
      "source": [
        "dir(sayilar1)"
      ],
      "metadata": {
        "colab": {
          "base_uri": "https://localhost:8080/"
        },
        "id": "HEL12Tg5lStf",
        "outputId": "2c3b917b-c5a5-4079-e06c-2bcc354d4302"
      },
      "execution_count": 11,
      "outputs": [
        {
          "output_type": "execute_result",
          "data": {
            "text/plain": [
              "['__add__',\n",
              " '__class__',\n",
              " '__class_getitem__',\n",
              " '__contains__',\n",
              " '__delattr__',\n",
              " '__delitem__',\n",
              " '__dir__',\n",
              " '__doc__',\n",
              " '__eq__',\n",
              " '__format__',\n",
              " '__ge__',\n",
              " '__getattribute__',\n",
              " '__getitem__',\n",
              " '__getstate__',\n",
              " '__gt__',\n",
              " '__hash__',\n",
              " '__iadd__',\n",
              " '__imul__',\n",
              " '__init__',\n",
              " '__init_subclass__',\n",
              " '__iter__',\n",
              " '__le__',\n",
              " '__len__',\n",
              " '__lt__',\n",
              " '__mul__',\n",
              " '__ne__',\n",
              " '__new__',\n",
              " '__reduce__',\n",
              " '__reduce_ex__',\n",
              " '__repr__',\n",
              " '__reversed__',\n",
              " '__rmul__',\n",
              " '__setattr__',\n",
              " '__setitem__',\n",
              " '__sizeof__',\n",
              " '__str__',\n",
              " '__subclasshook__',\n",
              " 'append',\n",
              " 'clear',\n",
              " 'copy',\n",
              " 'count',\n",
              " 'extend',\n",
              " 'index',\n",
              " 'insert',\n",
              " 'pop',\n",
              " 'remove',\n",
              " 'reverse',\n",
              " 'sort']"
            ]
          },
          "metadata": {},
          "execution_count": 11
        }
      ]
    },
    {
      "cell_type": "code",
      "source": [
        "sayilar1.append(\"Tülin\") #Listenin sonuna eleman ekler."
      ],
      "metadata": {
        "id": "t7I60Ad-lDk9"
      },
      "execution_count": 12,
      "outputs": []
    },
    {
      "cell_type": "code",
      "source": [
        "sayilar1"
      ],
      "metadata": {
        "colab": {
          "base_uri": "https://localhost:8080/"
        },
        "id": "Iwxj7g9Olsps",
        "outputId": "cccab537-c673-4fc5-e559-79cac8edd81f"
      },
      "execution_count": 13,
      "outputs": [
        {
          "output_type": "execute_result",
          "data": {
            "text/plain": [
              "[2, 5.6, 'ders', [9.33, 12], 'Tülin']"
            ]
          },
          "metadata": {},
          "execution_count": 13
        }
      ]
    },
    {
      "cell_type": "code",
      "source": [
        "sayilar1.insert(3,\"Eren\") #insert() başa veya araya eleman ekler."
      ],
      "metadata": {
        "id": "QvW4sRDulssG"
      },
      "execution_count": 14,
      "outputs": []
    },
    {
      "cell_type": "code",
      "source": [
        "sayilar1"
      ],
      "metadata": {
        "colab": {
          "base_uri": "https://localhost:8080/"
        },
        "id": "0ew05P5Alsup",
        "outputId": "b76bbfd8-60d2-4161-e150-28e952526606"
      },
      "execution_count": 15,
      "outputs": [
        {
          "output_type": "execute_result",
          "data": {
            "text/plain": [
              "[2, 5.6, 'ders', 'Eren', [9.33, 12], 'Tülin']"
            ]
          },
          "metadata": {},
          "execution_count": 15
        }
      ]
    },
    {
      "cell_type": "code",
      "source": [
        "sayilar1.remove(\"Tülin\") #istenilen elemanı siler."
      ],
      "metadata": {
        "id": "69FEluyMlsxP"
      },
      "execution_count": 16,
      "outputs": []
    },
    {
      "cell_type": "code",
      "source": [
        "sayilar1"
      ],
      "metadata": {
        "colab": {
          "base_uri": "https://localhost:8080/"
        },
        "id": "GY5hNSEwlszo",
        "outputId": "4126fa91-84d3-42a5-cdb4-71b9ccef059f"
      },
      "execution_count": 17,
      "outputs": [
        {
          "output_type": "execute_result",
          "data": {
            "text/plain": [
              "[2, 5.6, 'ders', 'Eren', [9.33, 12]]"
            ]
          },
          "metadata": {},
          "execution_count": 17
        }
      ]
    },
    {
      "cell_type": "code",
      "source": [
        "sayilar1.pop(2) #Belirtilen indeksin elemanını siler(ve döndürür).Eğer indeks verilmezse son elemanı siler."
      ],
      "metadata": {
        "colab": {
          "base_uri": "https://localhost:8080/",
          "height": 35
        },
        "id": "P-7t_7Tsls15",
        "outputId": "7801df4a-a735-40d6-f6ca-8729d6625ef3"
      },
      "execution_count": 18,
      "outputs": [
        {
          "output_type": "execute_result",
          "data": {
            "text/plain": [
              "'ders'"
            ],
            "application/vnd.google.colaboratory.intrinsic+json": {
              "type": "string"
            }
          },
          "metadata": {},
          "execution_count": 18
        }
      ]
    },
    {
      "cell_type": "code",
      "source": [
        "sayilar1"
      ],
      "metadata": {
        "colab": {
          "base_uri": "https://localhost:8080/"
        },
        "id": "Ni9r0lTdl5xU",
        "outputId": "b271b605-913f-4e83-96bd-afde87220bae"
      },
      "execution_count": 19,
      "outputs": [
        {
          "output_type": "execute_result",
          "data": {
            "text/plain": [
              "[2, 5.6, 'Eren', [9.33, 12]]"
            ]
          },
          "metadata": {},
          "execution_count": 19
        }
      ]
    },
    {
      "cell_type": "code",
      "source": [
        "sayilar = [5,17,0,-32,67]"
      ],
      "metadata": {
        "id": "cbBDhjIYl50L"
      },
      "execution_count": 20,
      "outputs": []
    },
    {
      "cell_type": "code",
      "source": [
        "sayilar.sort() #sayıları küçükten büyüğe sıralar."
      ],
      "metadata": {
        "id": "Ohs-PwbMl53D"
      },
      "execution_count": 21,
      "outputs": []
    },
    {
      "cell_type": "code",
      "source": [
        "[-32, 0, 5, 17, 67]"
      ],
      "metadata": {
        "colab": {
          "base_uri": "https://localhost:8080/"
        },
        "id": "-3q-NBUWl556",
        "outputId": "c288427b-24cb-4be6-89a7-1502b8304784"
      },
      "execution_count": 22,
      "outputs": [
        {
          "output_type": "execute_result",
          "data": {
            "text/plain": [
              "[-32, 0, 5, 17, 67]"
            ]
          },
          "metadata": {},
          "execution_count": 22
        }
      ]
    },
    {
      "cell_type": "code",
      "source": [
        "sayilar.reverse() #reverse() sayıları büyükten küçüğe sıralamaz, olan hali tam tersine çevirir."
      ],
      "metadata": {
        "id": "LO48sGQOl58f"
      },
      "execution_count": 23,
      "outputs": []
    },
    {
      "cell_type": "code",
      "source": [
        "sayilar"
      ],
      "metadata": {
        "colab": {
          "base_uri": "https://localhost:8080/"
        },
        "id": "VKL_f5Gol5-p",
        "outputId": "89f543d6-ae85-4302-c709-ef95d4e6c0fa"
      },
      "execution_count": 24,
      "outputs": [
        {
          "output_type": "execute_result",
          "data": {
            "text/plain": [
              "[67, 17, 5, 0, -32]"
            ]
          },
          "metadata": {},
          "execution_count": 24
        }
      ]
    },
    {
      "cell_type": "code",
      "source": [
        "numbers = sayilar"
      ],
      "metadata": {
        "id": "5LvuxIWrls4K"
      },
      "execution_count": 25,
      "outputs": []
    },
    {
      "cell_type": "code",
      "source": [
        "sayilar.append(1903)"
      ],
      "metadata": {
        "id": "4l_5iti5mM48"
      },
      "execution_count": 26,
      "outputs": []
    },
    {
      "cell_type": "code",
      "source": [
        "numbers"
      ],
      "metadata": {
        "colab": {
          "base_uri": "https://localhost:8080/"
        },
        "id": "dGVJv5DUmM7w",
        "outputId": "6298dce2-8718-4130-a665-b88d2fa0215a"
      },
      "execution_count": 27,
      "outputs": [
        {
          "output_type": "execute_result",
          "data": {
            "text/plain": [
              "[67, 17, 5, 0, -32, 1903]"
            ]
          },
          "metadata": {},
          "execution_count": 27
        }
      ]
    },
    {
      "cell_type": "code",
      "source": [
        "numbers = sayilar.copy() #kopyalıyor, kopyaladıktan sonra sayilar listesine eleman eklediğimizde numbers listesine eleman eklemez."
      ],
      "metadata": {
        "id": "kz_IuZlnmM-n"
      },
      "execution_count": 28,
      "outputs": []
    },
    {
      "cell_type": "code",
      "source": [
        "sayilar.append(1919)"
      ],
      "metadata": {
        "id": "aqHFLXUQmNBY"
      },
      "execution_count": 29,
      "outputs": []
    },
    {
      "cell_type": "code",
      "source": [
        "sayilar"
      ],
      "metadata": {
        "colab": {
          "base_uri": "https://localhost:8080/"
        },
        "id": "3lA5NH45mWY1",
        "outputId": "8e27895b-ee3a-4f8a-ebaa-abdade25c0ad"
      },
      "execution_count": 30,
      "outputs": [
        {
          "output_type": "execute_result",
          "data": {
            "text/plain": [
              "[67, 17, 5, 0, -32, 1903, 1919]"
            ]
          },
          "metadata": {},
          "execution_count": 30
        }
      ]
    },
    {
      "cell_type": "code",
      "source": [
        "numbers"
      ],
      "metadata": {
        "colab": {
          "base_uri": "https://localhost:8080/"
        },
        "id": "ft2MACuwmWbW",
        "outputId": "22d2db95-12a9-4daf-d2f5-f6701df22d96"
      },
      "execution_count": 31,
      "outputs": [
        {
          "output_type": "execute_result",
          "data": {
            "text/plain": [
              "[67, 17, 5, 0, -32, 1903]"
            ]
          },
          "metadata": {},
          "execution_count": 31
        }
      ]
    },
    {
      "cell_type": "code",
      "source": [
        "renkler1 = [\"kırmızı\",\"sarı\",\"mavi\"]\n",
        "renkler2 = [\"siyah\",\"beyaz\"]\n",
        "renkler1.extend(renkler2) #extend() iki listeyi birleştirir.\n",
        "print(renkler1)"
      ],
      "metadata": {
        "colab": {
          "base_uri": "https://localhost:8080/"
        },
        "id": "sZ8cLpB4mWd4",
        "outputId": "d91a514a-9d43-4e63-afed-736e8b3be443"
      },
      "execution_count": 32,
      "outputs": [
        {
          "output_type": "stream",
          "name": "stdout",
          "text": [
            "['kırmızı', 'sarı', 'mavi', 'siyah', 'beyaz']\n"
          ]
        }
      ]
    },
    {
      "cell_type": "code",
      "source": [
        "renkler = [\"Siyah\", \"Beyaz\", \"Sarı\", \"Mavi\", \"Yeşil\"]\n",
        "renkler.sort(reverse= True)\n",
        "print(renkler) #Liste değişti, eski haline dönmedi."
      ],
      "metadata": {
        "colab": {
          "base_uri": "https://localhost:8080/"
        },
        "id": "u67Yn2WlmWgd",
        "outputId": "4d201498-2e03-4e1a-c8f5-00bbc39e232f"
      },
      "execution_count": 33,
      "outputs": [
        {
          "output_type": "stream",
          "name": "stdout",
          "text": [
            "['Yeşil', 'Siyah', 'Sarı', 'Mavi', 'Beyaz']\n"
          ]
        }
      ]
    },
    {
      "cell_type": "code",
      "source": [
        "renkler = [\"Mavi\",\"Yeşil\",\"Mor\"]\n",
        "silinen = renkler.pop() #pop() metodu bir listenin son elemanını siler.O elemanı geri döndürür.(hangi elemanın silindiğini gösterebilir)\n",
        "print(renkler)\n",
        "print(silinen)"
      ],
      "metadata": {
        "colab": {
          "base_uri": "https://localhost:8080/"
        },
        "id": "DEG6JbBimND2",
        "outputId": "ebd9eeb7-e315-4615-b01b-5315c6ffe8f0"
      },
      "execution_count": 34,
      "outputs": [
        {
          "output_type": "stream",
          "name": "stdout",
          "text": [
            "['Mavi', 'Yeşil']\n",
            "Mor\n"
          ]
        }
      ]
    },
    {
      "cell_type": "code",
      "source": [
        "renkler = [\"Siyah\",\"Beyaz\",\"Gri\"]\n",
        "renkler.clear() #clear() metodu listedeki tüm elemanları siler.\n",
        "print(renkler)"
      ],
      "metadata": {
        "colab": {
          "base_uri": "https://localhost:8080/"
        },
        "id": "Ix77elvqmgyN",
        "outputId": "67e78851-50be-4e28-e365-fe8e3bd8b691"
      },
      "execution_count": 36,
      "outputs": [
        {
          "output_type": "stream",
          "name": "stdout",
          "text": [
            "[]\n"
          ]
        }
      ]
    },
    {
      "cell_type": "code",
      "source": [
        "renkler = [\"Siyah\",\"Beyaz\",\"Gri\"]\n",
        "liste = sorted(renkler) #sorted() metodu listeyi alfabetik olarak sıralar.Ayrıca renkler listesini değiştirmez.\n",
        "print(liste)\n",
        "print(renkler)"
      ],
      "metadata": {
        "colab": {
          "base_uri": "https://localhost:8080/"
        },
        "id": "FOLb8Zhwmjlw",
        "outputId": "d9922237-477b-45f0-9b60-37669f9bbb7f"
      },
      "execution_count": 37,
      "outputs": [
        {
          "output_type": "stream",
          "name": "stdout",
          "text": [
            "['Beyaz', 'Gri', 'Siyah']\n",
            "['Siyah', 'Beyaz', 'Gri']\n"
          ]
        }
      ]
    },
    {
      "cell_type": "code",
      "source": [
        "renkler = [\"Mavi\",\"Yeşil\",\"Sarı\",\"Mor\"]\n",
        "sayilar = [3,56,43,11,9,0]\n",
        "print(min(renkler)) #min() metodu listedeki en küçük elemanı döndürür.\n",
        "print(max(renkler)) #max() metodu listedeki en büyük elemanı döndürür.\n",
        "print(min(sayilar))\n",
        "print(max(sayilar))"
      ],
      "metadata": {
        "colab": {
          "base_uri": "https://localhost:8080/"
        },
        "id": "pr_D0bIhmg1O",
        "outputId": "f2bdb290-eae3-41b5-fed5-a4f5992c2453"
      },
      "execution_count": 38,
      "outputs": [
        {
          "output_type": "stream",
          "name": "stdout",
          "text": [
            "Mavi\n",
            "Yeşil\n",
            "0\n",
            "56\n"
          ]
        }
      ]
    },
    {
      "cell_type": "code",
      "source": [
        "sayilar = [3,56,43,11,9,0]\n",
        "print(sum(sayilar)) #sum listedeki sayıları toplar."
      ],
      "metadata": {
        "colab": {
          "base_uri": "https://localhost:8080/"
        },
        "id": "rVi7M-zZmnfV",
        "outputId": "132af883-85ba-4b18-8a18-fcd4e0115ce9"
      },
      "execution_count": 39,
      "outputs": [
        {
          "output_type": "stream",
          "name": "stdout",
          "text": [
            "122\n"
          ]
        }
      ]
    },
    {
      "cell_type": "code",
      "source": [
        "renkler = [\"Siyah\",\"Sarı\",\"Mavi\",\"Yeşil\"]\n",
        "for i in renkler:\n",
        "  print(i)"
      ],
      "metadata": {
        "colab": {
          "base_uri": "https://localhost:8080/"
        },
        "id": "44XmADkbmnib",
        "outputId": "e3c3e80a-4a98-4b04-f77a-4cb2307a2077"
      },
      "execution_count": 40,
      "outputs": [
        {
          "output_type": "stream",
          "name": "stdout",
          "text": [
            "Siyah\n",
            "Sarı\n",
            "Mavi\n",
            "Yeşil\n"
          ]
        }
      ]
    },
    {
      "cell_type": "code",
      "source": [
        "renkler = [\"Sarı\",\"Mavi\",\"Yeşil\"]\n",
        "stringrenkler = \"  \".join(renkler) #listeyi stringe çevirdi\n",
        "print(stringrenkler)"
      ],
      "metadata": {
        "colab": {
          "base_uri": "https://localhost:8080/"
        },
        "id": "67qKy_Q4mrYB",
        "outputId": "4c5f967e-0a2d-4822-bbba-5c80f83cd405"
      },
      "execution_count": 41,
      "outputs": [
        {
          "output_type": "stream",
          "name": "stdout",
          "text": [
            "Sarı  Mavi  Yeşil\n"
          ]
        }
      ]
    },
    {
      "cell_type": "code",
      "source": [
        "renkler = [\"Siyah\",\"Mavi\",\"Yeşil\"]\n",
        "stringrenkler = \"-\".join(renkler)\n",
        "print(stringrenkler)\n",
        "renkler2 = stringrenkler.split(\"-\") #stringe çevirilmiş listeyi listeye çevirdi\n",
        "print(renkler2)"
      ],
      "metadata": {
        "colab": {
          "base_uri": "https://localhost:8080/"
        },
        "id": "AccG4Fdfmrbg",
        "outputId": "8d8a1c1d-1c10-4e6e-b16f-98a26efe12ac"
      },
      "execution_count": 42,
      "outputs": [
        {
          "output_type": "stream",
          "name": "stdout",
          "text": [
            "Siyah-Mavi-Yeşil\n",
            "['Siyah', 'Mavi', 'Yeşil']\n"
          ]
        }
      ]
    },
    {
      "cell_type": "code",
      "source": [
        "meyveler =  ['elma', 'armut', 'çilek']\n",
        "for indeks, meyve in enumerate(meyveler):\n",
        "  print(indeks,meyve)"
      ],
      "metadata": {
        "colab": {
          "base_uri": "https://localhost:8080/"
        },
        "id": "vCMuc7aymv3Z",
        "outputId": "41794d97-a2df-4ce9-893f-936cb36645f4"
      },
      "execution_count": 43,
      "outputs": [
        {
          "output_type": "stream",
          "name": "stdout",
          "text": [
            "0 elma\n",
            "1 armut\n",
            "2 çilek\n"
          ]
        }
      ]
    },
    {
      "cell_type": "code",
      "source": [
        "meyveler =  ['elma', 'armut', 'çilek']\n",
        "for indeks, meyve in enumerate(meyveler, start=4):\n",
        "  print(indeks,meyve)"
      ],
      "metadata": {
        "colab": {
          "base_uri": "https://localhost:8080/"
        },
        "id": "MZop-QuAmv6l",
        "outputId": "36c9016f-17e9-4233-ef7c-2ee40952c372"
      },
      "execution_count": 44,
      "outputs": [
        {
          "output_type": "stream",
          "name": "stdout",
          "text": [
            "4 elma\n",
            "5 armut\n",
            "6 çilek\n"
          ]
        }
      ]
    },
    {
      "cell_type": "code",
      "source": [
        "meyveler =  ['elma', 'armut', 'çilek']\n",
        "print(list(enumerate(meyveler, start=9))) #Listeye dönüştürme"
      ],
      "metadata": {
        "colab": {
          "base_uri": "https://localhost:8080/"
        },
        "id": "vHIErAEnmzuP",
        "outputId": "c8e8f3cf-5179-463c-9c60-08ed7c88a761"
      },
      "execution_count": 45,
      "outputs": [
        {
          "output_type": "stream",
          "name": "stdout",
          "text": [
            "[(9, 'elma'), (10, 'armut'), (11, 'çilek')]\n"
          ]
        }
      ]
    },
    {
      "cell_type": "code",
      "source": [
        "hayvanlar = [\"Kedi\", \"Köpek\", \"Kuzu\"]\n",
        "print(\"Tavşan\" in hayvanlar) #Tavşan hayvanlar listesinde var mı?"
      ],
      "metadata": {
        "colab": {
          "base_uri": "https://localhost:8080/"
        },
        "id": "vaf50tATmzwy",
        "outputId": "80d5ccd2-b636-4d51-f2ba-9029313ba87f"
      },
      "execution_count": 46,
      "outputs": [
        {
          "output_type": "stream",
          "name": "stdout",
          "text": [
            "False\n"
          ]
        }
      ]
    }
  ]
}