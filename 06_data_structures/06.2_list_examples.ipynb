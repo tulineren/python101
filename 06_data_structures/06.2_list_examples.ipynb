{
  "nbformat": 4,
  "nbformat_minor": 0,
  "metadata": {
    "colab": {
      "provenance": []
    },
    "kernelspec": {
      "name": "python3",
      "display_name": "Python 3"
    },
    "language_info": {
      "name": "python"
    }
  },
  "cells": [
    {
      "cell_type": "markdown",
      "source": [
        "# **LİSTE İLE İLGİLİ ÖRNEKLER**"
      ],
      "metadata": {
        "id": "8NRanNstoRI2"
      }
    },
    {
      "cell_type": "code",
      "source": [
        "2#Bir liste oluştur ve listeye kullanıcıdan aldığın 5 sayıyı ekle.Daha sonra bu sayıların toplamını ve ortalamasını ekrana yazdır.\n",
        "sayi1 = int(input(\"Birinci sayıyı giriniz : \"))\n",
        "sayi2 = int(input(\"İkinci sayıyı giriniz : \"))\n",
        "sayi3 = int(input(\"Üçüncü sayıyı giriniz : \"))\n",
        "sayi4 = int(input(\"Dördüncü sayıyı giriniz : \"))\n",
        "sayi5 = int(input(\"Beşinci sayıyı giriniz : \"))\n",
        "liste = [sayi1, sayi2, sayi3, sayi4, sayi5]\n",
        "ortalama = float((sayi1 + sayi2 + sayi3 + sayi4 + sayi5)/5)\n",
        "print(\"Sayıların toplamı : \",sum(liste))\n",
        "print(\"Sayıların ortalaması : \",ortalama)"
      ],
      "metadata": {
        "colab": {
          "base_uri": "https://localhost:8080/"
        },
        "id": "6uC36wi9oUbU",
        "outputId": "dc9cca13-09c4-4831-b34a-9ce377f547d4"
      },
      "execution_count": 2,
      "outputs": [
        {
          "output_type": "stream",
          "name": "stdout",
          "text": [
            "Birinci sayıyı giriniz : 1\n",
            "İkinci sayıyı giriniz : 2\n",
            "Üçüncü sayıyı giriniz : 3\n",
            "Dördüncü sayıyı giriniz : 4\n",
            "Beşinci sayıyı giriniz : 5\n",
            "Sayıların toplamı :  15\n",
            "Sayıların ortalaması :  3.0\n"
          ]
        }
      ]
    },
    {
      "cell_type": "code",
      "source": [
        "2#Üstteki kod benim yazdığım bu chatin yazdığı\n",
        "liste = []\n",
        "for i in range(1,6):\n",
        "  sayi = int(input(f\"{i}. sayıyı giriniz : \"))\n",
        "  liste.append(sayi)\n",
        "ortalama = sum(liste) / len(liste)\n",
        "print(\"Sayıların toplamı : \", sum(liste))\n",
        "print(\"Sayıların ortalaması : \", ortalama)"
      ],
      "metadata": {
        "colab": {
          "base_uri": "https://localhost:8080/"
        },
        "id": "5PdYfdOuoX75",
        "outputId": "acfd2f80-14b4-420a-a92c-fc300ae11ae2"
      },
      "execution_count": 4,
      "outputs": [
        {
          "output_type": "stream",
          "name": "stdout",
          "text": [
            "1. sayıyı giriniz : 1\n",
            "2. sayıyı giriniz : 2\n",
            "3. sayıyı giriniz : 3\n",
            "4. sayıyı giriniz : 4\n",
            "5. sayıyı giriniz : 5\n",
            "Sayıların toplamı :  15\n",
            "Sayıların ortalaması :  3.0\n"
          ]
        }
      ]
    },
    {
      "cell_type": "code",
      "source": [
        "#Bir liste oluştur. Kullanıcıdan 5 farklı kelime al ve bu kelimeleri listeye ekle.\n",
        "#1.Listeyi ekrana yazdır.\n",
        "#2.Listedeki kelimelerin her birini ayrı satırlarda yazdır.\n",
        "#3.Listedeki en uzun kelimeyi ekrana yazdır.\n",
        "liste = []\n",
        "for i in range(1, 6):\n",
        "  kelime = input(f\"{i}. kelimeyi giriniz : \")\n",
        "  liste.append(kelime)\n",
        "print(liste)\n",
        "for kelime in liste:\n",
        "    print(kelime)\n",
        "en_uzun_kelime = max(liste, key=len)\n",
        "print(\"Listedeki en uzun kelime : \", en_uzun_kelime)\n",
        "#key=len Yazmamızın sebebi, Python'un max()fonksiyonunun ne olduğunu karşılaştırması söylemek.\n",
        "#Normalde, max()fonksiyonun bir listesi içindeki en büyük öğeyi bulur.\n",
        "#Sayılar için bu işlem doğrudan yapılabilir. Ancak kelimelerden oluşan bir listenin hangi kritere göre en büyük (veya uzun) olduğunu anlaması gerekir .\n",
        "#Bu durumda, key=len yazarak, kelimelerin uzunluklarını (len) karşılaştırmasını sağlar."
      ],
      "metadata": {
        "colab": {
          "base_uri": "https://localhost:8080/"
        },
        "id": "AsFWSWGAoUeE",
        "outputId": "f13e2723-29ba-4846-d067-45c8fc953fe3"
      },
      "execution_count": 5,
      "outputs": [
        {
          "output_type": "stream",
          "name": "stdout",
          "text": [
            "1. kelimeyi giriniz : ukulele\n",
            "2. kelimeyi giriniz : kasımpatı\n",
            "3. kelimeyi giriniz : çiçek\n",
            "4. kelimeyi giriniz : gülümse\n",
            "5. kelimeyi giriniz : maç\n",
            "['ukulele', 'kasımpatı', 'çiçek', 'gülümse', 'maç']\n",
            "ukulele\n",
            "kasımpatı\n",
            "çiçek\n",
            "gülümse\n",
            "maç\n",
            "Listedeki en uzun kelime :  kasımpatı\n"
          ]
        }
      ]
    },
    {
      "cell_type": "code",
      "source": [
        "#Bir liste oluştur ve içine 5 tane meyve adı ekle.\n",
        "#1.Listeyi ekrana yazdır.\n",
        "#2.Listenin ilk ve son elemanını ekrana yazdır.\n",
        "#3.Listeye bir tane daha eleman ekle ve güncellenmiş listeyi yazdır.\n",
        "#4.Listenin ikinci elemanını sil ve yeni listeyi yazdır.\n",
        "meyveler = [\"elma\", \"armut\", \"portakal\", \"muz\", \"çilek\"]\n",
        "print(meyveler)\n",
        "print(meyveler[0])\n",
        "print(meyveler[4])\n",
        "meyveler.append(\"avokado\")\n",
        "print(meyveler)\n",
        "meyveler.pop(1)\n",
        "print(meyveler)"
      ],
      "metadata": {
        "colab": {
          "base_uri": "https://localhost:8080/"
        },
        "id": "wijCJeNtocs5",
        "outputId": "0ae8527a-3325-4455-bbd1-28c1de0fba16"
      },
      "execution_count": 6,
      "outputs": [
        {
          "output_type": "stream",
          "name": "stdout",
          "text": [
            "['elma', 'armut', 'portakal', 'muz', 'çilek']\n",
            "elma\n",
            "çilek\n",
            "['elma', 'armut', 'portakal', 'muz', 'çilek', 'avokado']\n",
            "['elma', 'portakal', 'muz', 'çilek', 'avokado']\n"
          ]
        }
      ]
    }
  ]
}