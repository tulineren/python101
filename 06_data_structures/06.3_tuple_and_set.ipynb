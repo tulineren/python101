{
  "nbformat": 4,
  "nbformat_minor": 0,
  "metadata": {
    "colab": {
      "provenance": []
    },
    "kernelspec": {
      "name": "python3",
      "display_name": "Python 3"
    },
    "language_info": {
      "name": "python"
    }
  },
  "cells": [
    {
      "cell_type": "markdown",
      "source": [
        "# **TUPLE(DEMET)**"
      ],
      "metadata": {
        "id": "q47ErwZ7pVzR"
      }
    },
    {
      "cell_type": "code",
      "source": [
        "ogrenci1 = (\"Merve\", 23, 76)\n",
        "ogrenci2 = (\"Ahmet\", 20, 33)\n",
        "ogrenci3 = (\"Buse\", 24, 87)\n",
        "liste = [ogrenci1, ogrenci2, ogrenci3]\n",
        "print(liste)"
      ],
      "metadata": {
        "colab": {
          "base_uri": "https://localhost:8080/"
        },
        "id": "C8uSZ8fWpXLB",
        "outputId": "c9b83702-b972-4870-e81b-ead0b56ad6d5"
      },
      "execution_count": 2,
      "outputs": [
        {
          "output_type": "stream",
          "name": "stdout",
          "text": [
            "[('Merve', 23, 76), ('Ahmet', 20, 33), ('Buse', 24, 87)]\n"
          ]
        }
      ]
    },
    {
      "cell_type": "markdown",
      "source": [
        "# **SET(KÜME)**"
      ],
      "metadata": {
        "id": "XojT4Nq9peoK"
      }
    },
    {
      "cell_type": "code",
      "source": [
        "kume = {\"siyah\", \"sarı\", \"mavi\", \"yeşil\"}\n",
        "for renkler in kume:\n",
        "    print(renkler)\n",
        "kume.add(\"pembe\") #Eleman ekler. append() listelerde kullanılır, sonuna eleman ekler.Kümelerde sıra olmadığı için kullanılmaz.\n",
        "print(kume)\n",
        "kume.remove(\"sarı\") #Eleman siler.\n",
        "print(kume)"
      ],
      "metadata": {
        "colab": {
          "base_uri": "https://localhost:8080/"
        },
        "id": "yloinY31pjYO",
        "outputId": "fc5fe768-708c-4c3d-8012-5938ed28e613"
      },
      "execution_count": 3,
      "outputs": [
        {
          "output_type": "stream",
          "name": "stdout",
          "text": [
            "yeşil\n",
            "sarı\n",
            "mavi\n",
            "siyah\n",
            "{'sarı', 'pembe', 'mavi', 'yeşil', 'siyah'}\n",
            "{'pembe', 'mavi', 'yeşil', 'siyah'}\n"
          ]
        }
      ]
    },
    {
      "cell_type": "code",
      "source": [
        "kume = {\"siyah\", \"sarı\", \"mavi\", \"yeşil\"}\n",
        "kume.remove(\"gri\") #Eğer eleman kümede yoksa hata verir.\n",
        "print(kume)"
      ],
      "metadata": {
        "colab": {
          "base_uri": "https://localhost:8080/",
          "height": 176
        },
        "id": "pqD1r8ydpjas",
        "outputId": "d6617835-fca8-4bb8-b327-a08363e1ab9c"
      },
      "execution_count": 4,
      "outputs": [
        {
          "output_type": "error",
          "ename": "KeyError",
          "evalue": "'gri'",
          "traceback": [
            "\u001b[0;31m---------------------------------------------------------------------------\u001b[0m",
            "\u001b[0;31mKeyError\u001b[0m                                  Traceback (most recent call last)",
            "\u001b[0;32m/tmp/ipython-input-408177464.py\u001b[0m in \u001b[0;36m<cell line: 0>\u001b[0;34m()\u001b[0m\n\u001b[1;32m      1\u001b[0m \u001b[0mkume\u001b[0m \u001b[0;34m=\u001b[0m \u001b[0;34m{\u001b[0m\u001b[0;34m\"siyah\"\u001b[0m\u001b[0;34m,\u001b[0m \u001b[0;34m\"sarı\"\u001b[0m\u001b[0;34m,\u001b[0m \u001b[0;34m\"mavi\"\u001b[0m\u001b[0;34m,\u001b[0m \u001b[0;34m\"yeşil\"\u001b[0m\u001b[0;34m}\u001b[0m\u001b[0;34m\u001b[0m\u001b[0;34m\u001b[0m\u001b[0m\n\u001b[0;32m----> 2\u001b[0;31m \u001b[0mkume\u001b[0m\u001b[0;34m.\u001b[0m\u001b[0mremove\u001b[0m\u001b[0;34m(\u001b[0m\u001b[0;34m\"gri\"\u001b[0m\u001b[0;34m)\u001b[0m \u001b[0;31m#Eğer eleman kümede yoksa hata verir.\u001b[0m\u001b[0;34m\u001b[0m\u001b[0;34m\u001b[0m\u001b[0m\n\u001b[0m\u001b[1;32m      3\u001b[0m \u001b[0mprint\u001b[0m\u001b[0;34m(\u001b[0m\u001b[0mkume\u001b[0m\u001b[0;34m)\u001b[0m\u001b[0;34m\u001b[0m\u001b[0;34m\u001b[0m\u001b[0m\n",
            "\u001b[0;31mKeyError\u001b[0m: 'gri'"
          ]
        }
      ]
    },
    {
      "cell_type": "code",
      "source": [
        "kume = {\"siyah\", \"sarı\", \"mavi\", \"yeşil\"}\n",
        "kume.discard(\"gri\") #Eğer eleman kümede yoksa dahi hata vermez.\n",
        "print(kume)"
      ],
      "metadata": {
        "colab": {
          "base_uri": "https://localhost:8080/"
        },
        "id": "sgKGxP_Wpn9T",
        "outputId": "2a554dcc-182b-4b78-a55b-016980b779df"
      },
      "execution_count": 5,
      "outputs": [
        {
          "output_type": "stream",
          "name": "stdout",
          "text": [
            "{'yeşil', 'sarı', 'mavi', 'siyah'}\n"
          ]
        }
      ]
    },
    {
      "cell_type": "code",
      "source": [
        "A = {1,2,3}\n",
        "B = {3,4,5}\n",
        "print(A | B) #Birleşim\n",
        "print(A & B) #Kesişim\n",
        "print(A - B) #Fark\n",
        "print(A ^ B) #Simetrik fark"
      ],
      "metadata": {
        "colab": {
          "base_uri": "https://localhost:8080/"
        },
        "id": "aWQgXXGYpoAe",
        "outputId": "e469fe3a-1741-4f8c-e464-2a0606e88b79"
      },
      "execution_count": 6,
      "outputs": [
        {
          "output_type": "stream",
          "name": "stdout",
          "text": [
            "{1, 2, 3, 4, 5}\n",
            "{3}\n",
            "{1, 2}\n",
            "{1, 2, 4, 5}\n"
          ]
        }
      ]
    },
    {
      "cell_type": "code",
      "source": [
        "kume = {1,2,3,4}\n",
        "print(2 in kume) #2 kümede var mı?\n",
        "print(4 not in kume)"
      ],
      "metadata": {
        "colab": {
          "base_uri": "https://localhost:8080/"
        },
        "id": "NgwB8mespoCo",
        "outputId": "3d997814-c7e4-4180-e800-dd25b15a219f"
      },
      "execution_count": 7,
      "outputs": [
        {
          "output_type": "stream",
          "name": "stdout",
          "text": [
            "True\n",
            "False\n"
          ]
        }
      ]
    },
    {
      "cell_type": "code",
      "source": [
        "kume1 = {\"sarı\", \"beyaz\", \"mavi\", \"kırmızı\"}\n",
        "kume2 = {\"beyaz\", \"pembe\", \"siyah\"}\n",
        "print(kume1.intersection(kume2)) #Kesişim\n",
        "print(kume1.union(kume2)) #Birleşim\n",
        "print(kume1.difference(kume2)) #Fark kume1'de olup kume2'de olmayan\n",
        "print(kume1.symmetric_difference(kume2)) #Simetrik"
      ],
      "metadata": {
        "colab": {
          "base_uri": "https://localhost:8080/"
        },
        "id": "9U6xXJqSpoFL",
        "outputId": "f9836468-b7fd-4dcd-a674-f56d06d5ba43"
      },
      "execution_count": 8,
      "outputs": [
        {
          "output_type": "stream",
          "name": "stdout",
          "text": [
            "{'beyaz'}\n",
            "{'sarı', 'beyaz', 'pembe', 'mavi', 'kırmızı', 'siyah'}\n",
            "{'mavi', 'sarı', 'kırmızı'}\n",
            "{'sarı', 'pembe', 'kırmızı', 'mavi', 'siyah'}\n"
          ]
        }
      ]
    },
    {
      "cell_type": "code",
      "source": [
        "bos_liste1 = []\n",
        "bos_liste2 = list()\n",
        "\n",
        "bos_demet1 = ()\n",
        "bos_demet2 = tuple()\n",
        "\n",
        "bos_kume = set()\n",
        "bos_kume1 = {} #Bu bir sözlüktür"
      ],
      "metadata": {
        "id": "0QGYXnvZqHpW"
      },
      "execution_count": 9,
      "outputs": []
    },
    {
      "cell_type": "code",
      "source": [
        "python = set(\"PYTHON\") #Listeyi kümeye çevirdi\n",
        "print(python)\n",
        "kume = set([1,2,3,4]) #Listeyi kümeye çevirdi\n",
        "print(kume)\n",
        "demet = set((1,2,3,4)) #Demeti kümeye çevirdi\n",
        "print(demet)"
      ],
      "metadata": {
        "colab": {
          "base_uri": "https://localhost:8080/"
        },
        "id": "OLRDlTvMqHsP",
        "outputId": "2b89be1a-1ff2-435d-bd60-3a1105969ccd"
      },
      "execution_count": 10,
      "outputs": [
        {
          "output_type": "stream",
          "name": "stdout",
          "text": [
            "{'N', 'O', 'H', 'P', 'T', 'Y'}\n",
            "{1, 2, 3, 4}\n",
            "{1, 2, 3, 4}\n"
          ]
        }
      ]
    },
    {
      "cell_type": "markdown",
      "source": [
        "# **KÜME İLE İLGİLİ ÖRNEKLER**"
      ],
      "metadata": {
        "id": "Y2r8P6BoqXdH"
      }
    },
    {
      "cell_type": "code",
      "source": [
        "#Bir sınıftaki matematik sınavına girenleri ve fen sınavına girenleri kümelerle temsil et.\n",
        "#Matematik sınavına giren öğrenciler:{\"Ali\", \"Ayşe\", \"Fatma\", \"Mehmet\"}\n",
        "#Fen sınavına giren öğrenciler:{\"Ayşe\", \"Fatma\", \"Hasan\", \"Zeynep\"}\n",
        "#1.Her iki sınava da giren bul.\n",
        "#2.Sadece matematik sınavına girenlere bul.\n",
        "#3.İki sınavdan en az birine giren listele.\n",
        "\n",
        "matematik = {\"Ali\", \"Ayşe\", \"Fatma\", \"Mehmet\"}\n",
        "fen = {\"Ayşe\", \"Fatma\", \"Hasan\", \"Zeynep\"}\n",
        "print(matematik.intersection(fen))\n",
        "print(matematik.difference(fen))\n",
        "print(matematik.union(fen))"
      ],
      "metadata": {
        "colab": {
          "base_uri": "https://localhost:8080/"
        },
        "id": "pi3XboKAqHuy",
        "outputId": "79d34e80-0532-43a7-bb5b-6f759e6ccf13"
      },
      "execution_count": 11,
      "outputs": [
        {
          "output_type": "stream",
          "name": "stdout",
          "text": [
            "{'Ayşe', 'Fatma'}\n",
            "{'Ali', 'Mehmet'}\n",
            "{'Ayşe', 'Fatma', 'Ali', 'Hasan', 'Zeynep', 'Mehmet'}\n"
          ]
        }
      ]
    },
    {
      "cell_type": "code",
      "source": [
        "# Bir etkinlik düzenleniyor ve etkinliğe katılanların bir kısmı spor kulübü üyesi, bir kısmı sanat kulübü üyesi. Bu bilgilerin bilgileri aşağıda verilmiştir:\n",
        "#Spor kulübü üyeleri: {\"Ali\", \"Ayşe\", \"Cem\", \"Deniz\", \"Fatma\"}\n",
        "#Sanat kulübü bileşenleri: {\"Cem\", \"Fatma\", \"Hasan\", \"İpek\", \"Mehmet\"}\n",
        "#1.Hem spor hem de sanat kulübüne üye olanlarda bulun.\n",
        "#2.Sadece bir kulübe olan üyeleri listeleyin.\n",
        "#3.Tüm sayıların toplam sayısı bulunur.\n",
        "#4.Sanat kulübüne üye olmayan spor Kulübü Üyelerini listeleyin.\n",
        "\n",
        "spor = {\"Ali\", \"Ayşe\", \"Cem\", \"Deniz\", \"Fatma\"}\n",
        "sanat = {\"Cem\", \"Fatma\", \"Hasan\", \"İpek\", \"Mehmer\"}\n",
        "print(spor | sanat)\n",
        "print(spor ^ sanat)\n",
        "print(\"Toplam öğrenci sayısı : \", len(spor.union(sanat))) #len() fonksiyonu kümedeki eleman sayısını verir.\n",
        "print(spor.difference(sanat))"
      ],
      "metadata": {
        "colab": {
          "base_uri": "https://localhost:8080/"
        },
        "id": "Mx8kOKSHqH3V",
        "outputId": "35e7d435-fdd2-4c0a-a994-ca8195a358fd"
      },
      "execution_count": 12,
      "outputs": [
        {
          "output_type": "stream",
          "name": "stdout",
          "text": [
            "{'Mehmer', 'Ayşe', 'Cem', 'Hasan', 'Fatma', 'Ali', 'İpek', 'Deniz'}\n",
            "{'Mehmer', 'Ayşe', 'Ali', 'Deniz', 'İpek', 'Hasan'}\n",
            "Toplam öğrenci sayısı :  8\n",
            "{'Deniz', 'Ayşe', 'Ali'}\n"
          ]
        }
      ]
    },
    {
      "cell_type": "code",
      "source": [
        "#Bir şirketin çalışanlarının bilgileri şu şekildedir:\n",
        "#Proje A'da özellikler: {\"Ali\", \"Ayşe\", \"Cem\", \"Deniz\", \"Elif\"}\n",
        "#Proje B'de gösterilenler: {\"Cem\", \"Fatma\", \"Hasan\", \"Elif\", \"Zeynep\"}\n",
        "#Proje C'de gösterilenler: {\"Ali\", \"Fatma\", \"Deniz\", \"Hasan\", \"İpek\"}\n",
        "#1.Her üç projede de çalışan kişiler bulunuyor.\n",
        "#2.Sadece bir projede çalışan kişileri listeleyin.\n",
        "#3.En az iki projede çalışan kişileri listeleyin.\n",
        "#4.Hiçbir projenin ortak olmayan bir kişinin olup olmadığını kontrol edin. (Bir kişinin üç projesi çalışmıyorsa, onları listeleyin.)\n",
        "\n",
        "projeA = {\"Ali\", \"Ayşe\", \"Cem\", \"Deniz\", \"Elif\"}\n",
        "projeB = {\"Cem\", \"Fatma\", \"Hasan\", \"Elif\", \"Zeynep\"}\n",
        "projeC = {\"Ali\", \"Fatma\", \"Deniz\", \"Hasan\", \"İpek\"}\n",
        "print(projeA & projeB & projeC)\n",
        "print(projeA ^ projeB ^ projeC)\n",
        "print((projeA | projeB | projeC)-(projeA ^ projeB ^ projeC))\n",
        "print((projeA | projeB | projeC)-(projeA & projeB & projeC))"
      ],
      "metadata": {
        "colab": {
          "base_uri": "https://localhost:8080/"
        },
        "id": "X2VGKEavqeWr",
        "outputId": "b211f0d1-1bcf-46ce-a964-5477930eacdf"
      },
      "execution_count": 13,
      "outputs": [
        {
          "output_type": "stream",
          "name": "stdout",
          "text": [
            "set()\n",
            "{'Ayşe', 'İpek', 'Zeynep'}\n",
            "{'Cem', 'Fatma', 'Elif', 'Ali', 'Hasan', 'Deniz'}\n",
            "{'Ayşe', 'Cem', 'Hasan', 'Fatma', 'Elif', 'Ali', 'İpek', 'Deniz', 'Zeynep'}\n"
          ]
        }
      ]
    }
  ]
}