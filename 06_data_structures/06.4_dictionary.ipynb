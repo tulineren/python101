{
  "nbformat": 4,
  "nbformat_minor": 0,
  "metadata": {
    "colab": {
      "provenance": []
    },
    "kernelspec": {
      "name": "python3",
      "display_name": "Python 3"
    },
    "language_info": {
      "name": "python"
    }
  },
  "cells": [
    {
      "cell_type": "markdown",
      "source": [
        "# **DICTIONARY(SÖZLÜK)**"
      ],
      "metadata": {
        "id": "FaL5ZvCRq-N5"
      }
    },
    {
      "cell_type": "code",
      "source": [
        "sozluk = {\n",
        "    \"ad\" : \"Tülin\",\n",
        "    \"soyad\" : \"Eren\",\n",
        "    \"yas\" : 21\n",
        "}\n",
        "print(sozluk)\n",
        "print(sozluk[\"ad\"]) #Sözlükteki elemanlara erişim\n",
        "sozluk[\"meslek\"] = \"mühendis\" #Sözlükteki anahtar ve değerlere ekleme\n",
        "print(sozluk)\n",
        "del sozluk[\"yas\"] #Anahtar silme: Anahtarları ve karşılık gelen değerlerini silmek için del kullanılır.\n",
        "print(sozluk)\n",
        "sozluk[\"ad\"] = \"Fatma\" #Sözlükte değer değiştirme\n",
        "print(sozluk)\n",
        "print(\"ad\" in sozluk) #Sözlükte anahtar kontrolü\n",
        "#Tüm anahtar, değerler veya anahtar-değer çiftlerine erişmek için .keys(), .values() ve .items() metodları kullanılır.\n",
        "print(sozluk.keys())\n",
        "print(sozluk.values())\n",
        "print(sozluk.items())\n",
        "#ÖNEMLİ NOT: Sözlükteki anahtarlar string veya int olmak zorunda. ancak değer kısmı her şey olabilir(string, int, küme, liste vs.).\n",
        ""
      ],
      "metadata": {
        "colab": {
          "base_uri": "https://localhost:8080/"
        },
        "id": "vdXwPN9TrGU2",
        "outputId": "05823acc-4536-4481-8083-28013178518d"
      },
      "execution_count": 1,
      "outputs": [
        {
          "output_type": "stream",
          "name": "stdout",
          "text": [
            "{'ad': 'Tülin', 'soyad': 'Eren', 'yas': 21}\n",
            "Tülin\n",
            "{'ad': 'Tülin', 'soyad': 'Eren', 'yas': 21, 'meslek': 'mühendis'}\n",
            "{'ad': 'Tülin', 'soyad': 'Eren', 'meslek': 'mühendis'}\n",
            "{'ad': 'Fatma', 'soyad': 'Eren', 'meslek': 'mühendis'}\n",
            "True\n",
            "dict_keys(['ad', 'soyad', 'meslek'])\n",
            "dict_values(['Fatma', 'Eren', 'mühendis'])\n",
            "dict_items([('ad', 'Fatma'), ('soyad', 'Eren'), ('meslek', 'mühendis')])\n"
          ]
        }
      ]
    },
    {
      "cell_type": "code",
      "source": [
        "sozluk = {\n",
        "    \"ad\" : \"Tülin\",\n",
        "    \"soyad\" : \"Eren\",\n",
        "    \"yas\" : 21\n",
        "}\n",
        "print(sozluk)\n",
        "sozluk.update({\"ad\" : \"Fatma\", \"yas\" : 23}) #Birden fazla anahtar değiştirmek istediğimizde update metodunu kullanırız.\n",
        "print(sozluk)"
      ],
      "metadata": {
        "colab": {
          "base_uri": "https://localhost:8080/"
        },
        "id": "XUd6UHt4rGX4",
        "outputId": "e1012eb1-4aee-478e-f5cf-5ceda099605a"
      },
      "execution_count": 2,
      "outputs": [
        {
          "output_type": "stream",
          "name": "stdout",
          "text": [
            "{'ad': 'Tülin', 'soyad': 'Eren', 'yas': 21}\n",
            "{'ad': 'Fatma', 'soyad': 'Eren', 'yas': 23}\n"
          ]
        }
      ]
    },
    {
      "cell_type": "code",
      "source": [
        "sozluk = {\n",
        "    \"ad\" : \"Tülin\",\n",
        "    \"soyad\" : \"Eren\",\n",
        "    \"yas\" : 21\n",
        "}\n",
        "for i in sozluk:\n",
        "  print(i) #sözlükteki anahtarları yazdırır.\n",
        "for i in sozluk.keys():\n",
        "  print(i) #sözlükteki anahtarları yazdırır.\n",
        "for i in sozluk:\n",
        "  print(sozluk[i]) #sözlükteki değerleri yazdırır.\n",
        "for i in sozluk.values():\n",
        "  print(i) #sözlükteki değerleri yazdırır.\n",
        "for i in sozluk.items():\n",
        "  print(i) #sözlükteki anahtar ve değerleri yazdırır.\n",
        "for k,v in sozluk.items():\n",
        "  print(k,v) #sözlükteki anahtar ve değerleri yazdırır."
      ],
      "metadata": {
        "colab": {
          "base_uri": "https://localhost:8080/"
        },
        "id": "AamZenXPrGen",
        "outputId": "dfb9394f-e232-4b3e-efb9-08bb8b741f6c"
      },
      "execution_count": 3,
      "outputs": [
        {
          "output_type": "stream",
          "name": "stdout",
          "text": [
            "ad\n",
            "soyad\n",
            "yas\n",
            "ad\n",
            "soyad\n",
            "yas\n",
            "Tülin\n",
            "Eren\n",
            "21\n",
            "Tülin\n",
            "Eren\n",
            "21\n",
            "('ad', 'Tülin')\n",
            "('soyad', 'Eren')\n",
            "('yas', 21)\n",
            "ad Tülin\n",
            "soyad Eren\n",
            "yas 21\n"
          ]
        }
      ]
    },
    {
      "cell_type": "code",
      "source": [
        "#Python'da get() metodu, bir sözlükte belirli bir anahtarın değerinin güvenli bir şekilde alınması için kullanılır.\n",
        "#Eğer aradığın anahtar sözlükte bulunuyorsa, bu anahtarın karşılık gelen değerini döndürür.\n",
        "#Ancak anahtar sözlükte yoksa, hata vermek yerine varsayılan bir değer döner (veya None).\n",
        "#Sözlükte olmayan bir anahtar sorgularken KeyErrorhatalardan çözüm için kullanılır.\n",
        "#Anahtar varsa değer döner:\n",
        "sozluk = {\"ad\": \"Ali\", \"yas\": 25}\n",
        "print(sozluk.get(\"ad\"))\n",
        "#Anahtar yoksa None döndürür:\n",
        "sozluk = {\"ad\": \"Ali\", \"yas\": 25}\n",
        "print(sozluk.get(\"sehir\"))\n",
        "#Anahtar yoksa varsayılan bir değer döndürme:\n",
        "sozluk = {\"ad\": \"Ali\", \"yas\": 25}\n",
        "print(sozluk.get(\"sehir\", \"Bilinmiyor\"))\n",
        "#Anahtar sözlükte varsa varsayılan değer göz ardı eder:\n",
        "sozluk = {\"ad\": \"Ali\", \"yas\": 25}\n",
        "print(sozluk.get(\"yas\", \"Bilinmiyor\"))"
      ],
      "metadata": {
        "colab": {
          "base_uri": "https://localhost:8080/"
        },
        "id": "4w4KlQx8rOwk",
        "outputId": "7c277c2f-2157-45cd-d322-0d7cc19fe27c"
      },
      "execution_count": 4,
      "outputs": [
        {
          "output_type": "stream",
          "name": "stdout",
          "text": [
            "Ali\n",
            "None\n",
            "Bilinmiyor\n",
            "25\n"
          ]
        }
      ]
    },
    {
      "cell_type": "markdown",
      "source": [
        "# **SÖZLÜK İLE İLGİLİ ÖRNEKLER**"
      ],
      "metadata": {
        "id": "DXPJr07BrTMT"
      }
    },
    {
      "cell_type": "code",
      "source": [
        "#Bir okulun sınıf listesi aşağıdaki gibi bir sözlükte tutuluyor.\n",
        "#sinif_listesi = {\n",
        "#    \"Ali\": 85,\n",
        "#    \"Ayşe\": 90,\n",
        "#    \"Mehmet\": 78,\n",
        "#    \"Zeynep\": 92,\n",
        "#     \"Hasan\": 67\n",
        "#}\n",
        "#Bir öğrencinin notunu öğrendiği: Kullanıcıdan bir öğrencinin adı ve o öğrencinin notunun ekranı yazdırılır.\n",
        "#Eğer öğrenci listede yoksa \"Bu öğrenci listede yok.\" mesajını göster.\n",
        "#Not: Kullanıcıdan bir öğrenci adı ve yeni notunu al, bu notla öğrencinin notunu güncelle.\n",
        "#Eğer öğrenci listede yoksa \"Bu öğrenci hatalıysa, lütfen geçerli bir isim girin.\" mesajı göster.\n",
        "#Sınıfını ortalama hesabıyla: Tüm öğrencilerinin notlarını ortalama hesaplayıp ekranını yazdırır.\n",
        "sinif_listesi = {\n",
        "    \"Ali\": 85,\n",
        "    \"Ayşe\": 90,\n",
        "    \"Mehmet\": 78,\n",
        "    \"Zeynep\": 92,\n",
        "    \"Hasan\": 67\n",
        "}\n",
        "isim = input(\"Bir öğrenci ismi giriniz : \")\n",
        "if(isim in sinif_listesi):\n",
        "  print(sinif_listesi[isim])\n",
        "else:\n",
        "  print(\"Bu öğrenci listede yok.\")\n",
        "\n",
        "ad = input(\"Bir öğrenci adı giriniz : \")\n",
        "not1 = int(input(\"Öğrencinin notunu giriniz : \"))\n",
        "if(ad in sinif_listesi):\n",
        " sinif_listesi[ad] = not1\n",
        " print(sinif_listesi[ad])\n",
        "else:\n",
        " print(\"Bu öğrenci bulunamadı, lütfen geçerli bir isim girin.\")\n",
        "\n",
        "ortalama = sum(sinif_listesi.values()) / len(sinif_listesi)\n",
        "print(\"Sınıf ortalaması : \", ortalama)"
      ],
      "metadata": {
        "colab": {
          "base_uri": "https://localhost:8080/"
        },
        "id": "5OPbxiCwrO3i",
        "outputId": "efdc8b63-9800-475e-c038-b716ff9a2664"
      },
      "execution_count": 5,
      "outputs": [
        {
          "output_type": "stream",
          "name": "stdout",
          "text": [
            "Bir öğrenci ismi giriniz : Hüseyin\n",
            "Bu öğrenci listede yok.\n",
            "Bir öğrenci adı giriniz : Zeynep\n",
            "Öğrencinin notunu giriniz : 99\n",
            "99\n",
            "Sınıf ortalaması :  83.8\n"
          ]
        }
      ]
    },
    {
      "cell_type": "code",
      "source": [
        "#Bir pazarın ürün ve fiyat bilgileri aşağıdaki gibi bir sözlükte tutuluyor:\n",
        "#urunler = {\n",
        "#    \"elma\": 10,\n",
        "#    \"muz\": 15,\n",
        "#    \"çilek\": 25,\n",
        "#    \"portakal\": 12,\n",
        "#    \"kavun\": 30\n",
        "#}\n",
        "#Kullanıcıdan bir ürün adı ve bu ürünün fiyatını ekrana yazdırır. Ürün listede yoksa \"Bu ürün pazarında mevcut değil.\" mesajı göster.\n",
        "#Kullanıcıdan bir ürünün adı ve yeni fiyatını al. Ürün listede varsa fiyatını güncelle, yoksa bu ürünü sözlüğe ekle.\n",
        "#Tüm gereksiz toplam değer (stok değeri) hesapla ve ekrana yazdır.\n",
        "urunler = {\n",
        "    \"elma\": 10,\n",
        "    \"muz\": 15,\n",
        "    \"çilek\": 25,\n",
        "    \"portakal\": 12,\n",
        "    \"kavun\": 30\n",
        "}\n",
        "urun_adi = input(\"Bir ürün adı giriniz: \")\n",
        "if urun_adi in urunler:\n",
        "    print(f\"{urun_adi} 'in fiyatı: {urunler[urun_adi]} TL\")\n",
        "else:\n",
        "    print(\"Bu ürün markette bulunmamaktadır.\")\n",
        "\n",
        "urun_adi1 = input(\"Bir ürün adı giriniz: \")\n",
        "urun_fiyati = int(input(\"Ürün fiyatı giriniz: \"))\n",
        "if urun_adi1 in urunler:\n",
        "    urunler[urun_adi1] = urun_fiyati\n",
        "    print(f\"{urun_adi1} 'in fiyatı güncellendi.\")\n",
        "else:\n",
        "    urunler[urun_adi1] = urun_fiyati\n",
        "    print(urunler)\n",
        "\n",
        "toplam_fiyat = sum(urunler.values())\n",
        "print(\"Toplam ürün fiyatı: \", toplam_fiyat)"
      ],
      "metadata": {
        "colab": {
          "base_uri": "https://localhost:8080/"
        },
        "id": "MljKXixnrXxr",
        "outputId": "5c605d64-9ff4-4a42-d7f0-c2197d50e76a"
      },
      "execution_count": 6,
      "outputs": [
        {
          "output_type": "stream",
          "name": "stdout",
          "text": [
            "Bir ürün adı giriniz: elma\n",
            "elma 'in fiyatı: 10 TL\n",
            "Bir ürün adı giriniz: muz\n",
            "Ürün fiyatı giriniz: 34\n",
            "muz 'in fiyatı güncellendi.\n",
            "Toplam ürün fiyatı:  111\n"
          ]
        }
      ]
    }
  ]
}