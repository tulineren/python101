{
  "nbformat": 4,
  "nbformat_minor": 0,
  "metadata": {
    "colab": {
      "provenance": []
    },
    "kernelspec": {
      "name": "python3",
      "display_name": "Python 3"
    },
    "language_info": {
      "name": "python"
    }
  },
  "cells": [
    {
      "cell_type": "markdown",
      "source": [
        "# **FONKSİYONLAR**\n",
        "Belirli bir görevi yerine getiren ve tekrar tekrar kullanılabilen kod bloklarıdır. Fonksiyonlar, programı daha düzenli, okunabilir ve tekrar kullanılabilir hale getirir.\n"
      ],
      "metadata": {
        "id": "DoP-1tzkjXuI"
      }
    },
    {
      "cell_type": "code",
      "source": [
        "def hosgeldin_mesaji():\n",
        "   \"\"\"\n",
        "    Bu fonksiyon parametre almaz.\n",
        "    Sadece ekrana bir hoş geldin mesajı yazar.\n",
        "   \"\"\"\n",
        "   print(\"Sisteme hoş geldiniz.\")\n",
        "   kullanici_adi = input(\"Lütfen giriş yapmak için kullanıcı adınızı giriniz: \")\n",
        "   print(f\"Hoş geldin {kullanici_adi}!\")\n",
        "hosgeldin_mesaji() #Fonksiyon çağrısı"
      ],
      "metadata": {
        "colab": {
          "base_uri": "https://localhost:8080/"
        },
        "id": "WwYNpJ7fjXFV",
        "outputId": "9e3eb87e-9613-44bb-c59e-37c3a9f50070"
      },
      "execution_count": 1,
      "outputs": [
        {
          "output_type": "stream",
          "name": "stdout",
          "text": [
            "Sisteme hoş geldiniz.\n",
            "Lütfen giriş yapmak için kullanıcı adınızı giriniz: Asude\n",
            "Hoş geldin Asude!\n"
          ]
        }
      ]
    },
    {
      "cell_type": "code",
      "source": [
        "# Parametre Alan ve return ile Değer Döndüren Fonksiyon\n",
        "def kare_al(sayi):\n",
        "  return sayi ** 2\n",
        "sonuc = kare_al(13)\n",
        "print(f\"13 sayısının karesi: {sonuc}\")\n",
        "print(f\"Sonucun 4 katı: {sonuc*4}\") # Dönen değeri başka bir işlemde kullanma"
      ],
      "metadata": {
        "colab": {
          "base_uri": "https://localhost:8080/"
        },
        "id": "mCF7OI3cmG9a",
        "outputId": "3aaebd4d-c30a-485f-bfe4-24173d03ebe4"
      },
      "execution_count": null,
      "outputs": [
        {
          "output_type": "stream",
          "name": "stdout",
          "text": [
            "13 sayısının karesi: 169\n",
            "Sonucun 4 katı: 676\n"
          ]
        }
      ]
    },
    {
      "cell_type": "code",
      "source": [
        "# Varsayılan Değerli Parametre Kullanan Fonksiyon\n",
        "def indirim_hesapla(fiyat, indirim_oranı = 10):\n",
        "  \"\"\"\n",
        "    Bu fonksiyon, bir ürünün fiyatına indirim uygular.\n",
        "    indirim_orani parametresine değer verilmezse varsayılan olarak %10 indirim yapılır.\n",
        "  \"\"\"\n",
        "  indirimli_fiyat = fiyat * (1 - indirim_oranı / 100)\n",
        "  return indirimli_fiyat\n",
        "# Varsayılan indirim oranıyla çağırma\n",
        "print(indirim_hesapla(100))\n",
        "# Özel indirim oranıyla çağırma\n",
        "print(indirim_hesapla(200, 25))"
      ],
      "metadata": {
        "colab": {
          "base_uri": "https://localhost:8080/"
        },
        "id": "Tr7zIFWMnKmG",
        "outputId": "c9c4c7c3-118a-4de5-c358-4d89ca3db15f"
      },
      "execution_count": null,
      "outputs": [
        {
          "output_type": "stream",
          "name": "stdout",
          "text": [
            "90.0\n",
            "150.0\n"
          ]
        }
      ]
    }
  ]
}