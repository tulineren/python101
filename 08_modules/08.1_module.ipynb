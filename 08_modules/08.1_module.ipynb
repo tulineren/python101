{
  "nbformat": 4,
  "nbformat_minor": 0,
  "metadata": {
    "colab": {
      "provenance": []
    },
    "kernelspec": {
      "name": "python3",
      "display_name": "Python 3"
    },
    "language_info": {
      "name": "python"
    }
  },
  "cells": [
    {
      "cell_type": "markdown",
      "source": [
        "# **MODULE**\n",
        "Python’da modül, belirli bir işlevi yerine getiren Python kodlarının (fonksiyonlar, değişkenler, sınıflar vb.) tek bir dosyada toplanmış halidir.\n",
        "\n",
        "Bir modülün amacı:\n",
        "\n",
        "\n",
        "\n",
        "*   Kodun tekrar kullanılabilir olmasını sağlamak\n",
        "\n",
        "*   Kodun daha düzenli ve yönetilebilir olmasını sağlamak\n",
        "*   Benzer işlevleri tek bir yerde toplamak\n",
        "\n",
        "* Teknik olarak, “.py” uzantılı her dosya bir Python modülüdür.\n",
        "\n"
      ],
      "metadata": {
        "id": "tl7rqd2qEtEt"
      }
    },
    {
      "cell_type": "markdown",
      "source": [
        "**Modül Türleri**\n",
        "\n",
        "Python’da modüller üç ana gruba ayrılır:\n",
        "\n",
        "1.Yerleşik (Built-in) Modüller\n",
        "\n",
        "\n",
        "*   Python ile birlikte gelir, ayrıca yükleme gerektirmez.\n",
        "*   Örnek: math, random, datetime, os\n",
        "\n",
        "\n",
        "2.Harici (External) Modüller\n",
        "\n",
        "\n",
        "*   Python dışında geliştirilmiştir, pip ile yüklenir.\n",
        "*   Örnek: numpy, pandas, requests\n",
        "\n",
        "\n",
        "3.Kullanıcı Tanımlı (User-defined) Modüller\n",
        "\n",
        "\n",
        "*   Kendimiz oluştururuz.\n",
        "*   Örneğin hesaplamalar.py gibi kendi yazdığımız dosyalar."
      ],
      "metadata": {
        "id": "LmFlkVcvINYW"
      }
    },
    {
      "cell_type": "code",
      "source": [
        "import math\n",
        "print(\"pi sayısı: \", math.pi)\n",
        "print(\"√25 =\", math.sqrt(25))\n",
        "print(\"2^5 = \", math.pow(2,5))\n",
        "print(\"sin(90°) = \", math.sin(math.radians(90)))"
      ],
      "metadata": {
        "colab": {
          "base_uri": "https://localhost:8080/"
        },
        "id": "56XRawgTE1rs",
        "outputId": "e24d7176-76c1-4830-d25d-c0773bda9452"
      },
      "execution_count": 3,
      "outputs": [
        {
          "output_type": "stream",
          "name": "stdout",
          "text": [
            "pi sayısı:  3.141592653589793\n",
            "√25 = 5.0\n",
            "2^5 =  32.0\n",
            "sin(90°) =  1.0\n"
          ]
        }
      ]
    },
    {
      "cell_type": "code",
      "source": [
        "import requests\n",
        "# Bir web sayfasının HTML kodunu al\n",
        "response = requests.get(\"https://www.example.com\")\n",
        "\n",
        "print(\"Durum kodu:\", response.status_code)   # 200 -> Başarılı\n",
        "print(\"İlk 200 karakter:\")\n",
        "print(response.text[:200])  # İlk 200 karakteri göster\n",
        "# Kurulum: pip install requests"
      ],
      "metadata": {
        "colab": {
          "base_uri": "https://localhost:8080/"
        },
        "id": "cwz52kpBJLuc",
        "outputId": "52ed8865-be04-44da-b66c-9afe6228ef3e"
      },
      "execution_count": 4,
      "outputs": [
        {
          "output_type": "stream",
          "name": "stdout",
          "text": [
            "Durum kodu: 200\n",
            "İlk 200 karakter:\n",
            "<!doctype html>\n",
            "<html>\n",
            "<head>\n",
            "    <title>Example Domain</title>\n",
            "\n",
            "    <meta charset=\"utf-8\" />\n",
            "    <meta http-equiv=\"Content-type\" content=\"text/html; charset=utf-8\" />\n",
            "    <meta name=\"viewport\" conten\n"
          ]
        }
      ]
    },
    {
      "cell_type": "code",
      "source": [
        "# Kendi yazdığımız .py dosyaları.\n",
        "%%writefile matematik.py\n",
        "def topla(a,b):\n",
        "  return a + b\n",
        "def carp(a,b):\n",
        "  return a * b\n",
        "pi = 3.14"
      ],
      "metadata": {
        "colab": {
          "base_uri": "https://localhost:8080/"
        },
        "id": "xzyL1vcoKIx_",
        "outputId": "6ba3b7bc-8bca-49ca-e85d-9b3db84e5b86"
      },
      "execution_count": 12,
      "outputs": [
        {
          "output_type": "stream",
          "name": "stdout",
          "text": [
            "Overwriting matematik.py\n"
          ]
        }
      ]
    },
    {
      "cell_type": "code",
      "source": [
        "# main.py\n",
        "import matematik\n",
        "\n",
        "print(\"Toplama:\", matematik.topla(3, 5))\n",
        "print(\"Çarpma:\", matematik.carp(4, 6))\n",
        "print(\"Pi sayısı:\", matematik.pi)"
      ],
      "metadata": {
        "colab": {
          "base_uri": "https://localhost:8080/"
        },
        "id": "WOt_fqtqM0_k",
        "outputId": "cdcd52a2-cc75-410c-b989-6dda33bcb307"
      },
      "execution_count": 14,
      "outputs": [
        {
          "output_type": "stream",
          "name": "stdout",
          "text": [
            "Toplama: 8\n",
            "Çarpma: 24\n",
            "Pi sayısı: 3.14\n"
          ]
        }
      ]
    },
    {
      "cell_type": "code",
      "source": [
        "#main.py\n",
        "import math           # Yerleşik modül\n",
        "import requests       # Harici modül\n",
        "import matematik      # Kullanıcı tanımlı modül\n",
        "\n",
        "print(\"√81 =\", math.sqrt(81))\n",
        "\n",
        "site = \"https://www.example.com\"\n",
        "response = requests.get(site)\n",
        "print(f\"{site} durum kodu:\", response.status_code)\n",
        "\n",
        "print(\"3 + 7 =\", matematik.topla(3, 7))"
      ],
      "metadata": {
        "colab": {
          "base_uri": "https://localhost:8080/"
        },
        "id": "H-bi5fGkNYFs",
        "outputId": "a0cf3974-6779-43da-89fa-d76990b3e79c"
      },
      "execution_count": 15,
      "outputs": [
        {
          "output_type": "stream",
          "name": "stdout",
          "text": [
            "√81 = 9.0\n",
            "https://www.example.com durum kodu: 200\n",
            "3 + 7 = 10\n"
          ]
        }
      ]
    },
    {
      "cell_type": "markdown",
      "source": [
        "from <modül_adı> import * ifadesi:\n",
        "\n",
        "Modülün içindeki tüm genel tanımları (fonksiyonlar, değişkenler, sınıflar) tek tek import etmeden doğrudan kullanılabilir hale getirir.\n",
        "Böylece modul_adi. yazmaya gerek kalmaz."
      ],
      "metadata": {
        "id": "0746PQg2Pzf2"
      }
    },
    {
      "cell_type": "code",
      "source": [
        "import matematik\n",
        "print(matematik.topla(3, 5))"
      ],
      "metadata": {
        "colab": {
          "base_uri": "https://localhost:8080/"
        },
        "id": "IzTbVbQuP8ej",
        "outputId": "6096857f-aaaf-4dbd-a330-06af01d2c8e1"
      },
      "execution_count": 16,
      "outputs": [
        {
          "output_type": "stream",
          "name": "stdout",
          "text": [
            "8\n"
          ]
        }
      ]
    },
    {
      "cell_type": "code",
      "source": [
        "from matematik import *\n",
        "print(topla(3, 5))"
      ],
      "metadata": {
        "colab": {
          "base_uri": "https://localhost:8080/"
        },
        "id": "Isc3hf2GP2k9",
        "outputId": "822fa92f-14b5-43ef-a61c-9e5ae6f8d4da"
      },
      "execution_count": 17,
      "outputs": [
        {
          "output_type": "stream",
          "name": "stdout",
          "text": [
            "8\n"
          ]
        }
      ]
    }
  ]
}