{
  "nbformat": 4,
  "nbformat_minor": 0,
  "metadata": {
    "colab": {
      "provenance": []
    },
    "kernelspec": {
      "name": "python3",
      "display_name": "Python 3"
    },
    "language_info": {
      "name": "python"
    }
  },
  "cells": [
    {
      "cell_type": "markdown",
      "source": [
        "# **random Modülü Nedir?**\n",
        "\n",
        "Rastgele sayı üretmek, rastgele seçim yapmak veya listeyi karıştırmak gibi işlemler için kullanılır.\n",
        "\n",
        "\n",
        "**1.uniform(a, b)**\n",
        "\n",
        "\n",
        "*   Ondalıklı (float) rastgele bir sayı döndürür.\n",
        "*   Aralık a ≤ sayı ≤ b şeklindedir.\n",
        "\n",
        "\n",
        "**2. randint(a, b)**\n",
        "\n",
        "\n",
        "*   Tam sayı döndürür.\n",
        "*   Aralık a ≤ sayı ≤ b (b dahil).\n",
        "\n",
        "\n",
        "**3. randrange(start, stop, step)**\n",
        "\n",
        "\n",
        "*   Belirtilen aralıktan rastgele tam sayı seçer.\n",
        "*   stop değeri dahil değildir.\n",
        "\n",
        "*   step ile adım belirlenebilir.\n",
        "\n",
        "\n",
        "**4. choice(seq)**\n",
        "\n",
        "\n",
        "*   Verilen dizi, liste, tuple veya string içinden rastgele tek bir eleman seçer.\n",
        "\n",
        "\n",
        "\n",
        "**5. shuffle(seq)**\n",
        "\n",
        "\n",
        "*   Liste gibi sıralanabilir veri tiplerini karıştırır.\n",
        "*   Dikkat: Orijinal listeyi değiştirir.\n",
        "\n",
        "\n",
        "**6. sample(seq, k)**\n",
        "\n",
        "\n",
        "*   Verilen listeden tekrarsız olacak şekilde k adet rastgele eleman seçer.\n",
        "*   Yeni bir liste döndürür (orijinal liste değişmez).\n",
        "\n"
      ],
      "metadata": {
        "id": "ganhrMaPdY3d"
      }
    },
    {
      "cell_type": "code",
      "source": [
        "import random\n",
        "\n",
        "print(\"randint:\", random.randint(1, 10))\n",
        "\n",
        "print(\"uniform:\", random.uniform(0, 5))\n",
        "\n",
        "print(\"randrange:\", random.randrange(0, 10, 2))\n",
        "\n",
        "renkler = [\"Kırmızı\", \"Mavi\", \"Yeşil\"]\n",
        "print(\"choice:\", random.choice(renkler))\n",
        "\n",
        "sayilar = [1, 2, 3, 4, 5]\n",
        "random.shuffle(sayilar)\n",
        "print(\"shuffle:\", sayilar)\n",
        "\n",
        "print(\"sample:\", random.sample(sayilar, 3))"
      ],
      "metadata": {
        "colab": {
          "base_uri": "https://localhost:8080/"
        },
        "id": "y2VGjsqOdZFR",
        "outputId": "77963963-4eca-4be9-85b3-11e4113f4ac0"
      },
      "execution_count": 10,
      "outputs": [
        {
          "output_type": "stream",
          "name": "stdout",
          "text": [
            "randint: 5\n",
            "uniform: 3.935232621529707\n",
            "randrange: 8\n",
            "choice: Yeşil\n",
            "shuffle: [1, 3, 2, 4, 5]\n",
            "sample: [3, 2, 4]\n"
          ]
        }
      ]
    },
    {
      "cell_type": "code",
      "source": [
        "# Rastgele Şifre Oluşturucu\n",
        "# Amaç: Kullanıcıdan şifre uzunluğu bilgisi alıp, harfler, sayılar ve özel karakterlerden rastgele bir şifre oluşturmak.\n",
        "import random\n",
        "\n",
        "#Kullanılacak karakter setleri\n",
        "kucuk_harfler = \"abcdefghijklmnopqrstuvwxyz\"\n",
        "buyuk_harfler = \"ABCDEFGHIJKLMNOPQRSTUVWXYZ\"\n",
        "sayilar = \"0123456789\"\n",
        "ozel_karakterler = \"!@#$%^&*()_+-=[]{}|;:,.<>?/\"\n",
        "karakterler = kucuk_harfler + buyuk_harfler + sayilar + ozel_karakterler\n",
        "uzunluk = int(input(\"Şifre uzunluğunu girin: \"))\n",
        "\n",
        "for i in range(uzunluk):\n",
        "  print(random.choice(karakterler), end=\"\")"
      ],
      "metadata": {
        "colab": {
          "base_uri": "https://localhost:8080/"
        },
        "id": "m__l8YGJ4I2q",
        "outputId": "263a07db-e528-4302-84c3-290dd9bd33b3"
      },
      "execution_count": 6,
      "outputs": [
        {
          "output_type": "stream",
          "name": "stdout",
          "text": [
            "Şifre uzunluğunu girin: 10\n",
            "-bxB#9nyXn"
          ]
        }
      ]
    },
    {
      "cell_type": "code",
      "source": [
        "import random\n",
        "\n",
        "zarlar = {1:0, 2:0, 3:0, 4:0, 5:0, 6:0}\n",
        "for i in range(100):\n",
        "  zar = random.randint(1, 6)\n",
        "  zarlar[zar] += 1\n",
        "\n",
        "for zar, sayi in zarlar.items():\n",
        "  print(f\"{zar} gelme olasılığı: {sayi/100}\")"
      ],
      "metadata": {
        "colab": {
          "base_uri": "https://localhost:8080/"
        },
        "id": "eclOhmK6RlIv",
        "outputId": "20b1fb5a-9d09-41c5-92f7-da3132c9c059"
      },
      "execution_count": 9,
      "outputs": [
        {
          "output_type": "stream",
          "name": "stdout",
          "text": [
            "1 gelme olasılığı: 0.17\n",
            "2 gelme olasılığı: 0.13\n",
            "3 gelme olasılığı: 0.19\n",
            "4 gelme olasılığı: 0.22\n",
            "5 gelme olasılığı: 0.17\n",
            "6 gelme olasılığı: 0.12\n"
          ]
        }
      ]
    },
    {
      "cell_type": "code",
      "source": [
        "import random\n",
        "\n",
        "alti_alti = 0\n",
        "deneme_sayisi = 0\n",
        "while True:\n",
        "  zar1 = random.randint(1, 6)\n",
        "  zar2 = random.randint(1, 6)\n",
        "  deneme_sayisi += 1\n",
        "  if zar1 == 6 and zar2 == 6:\n",
        "    alti_alti += 1\n",
        "  if alti_alti == 10:\n",
        "    print(f\"10 defa 6-6 gelebilmesi için zarlar {deneme_sayisi} defa atıldı.\")\n",
        "    break"
      ],
      "metadata": {
        "colab": {
          "base_uri": "https://localhost:8080/"
        },
        "id": "XeU6BqkgTfa1",
        "outputId": "453a3f6e-9354-42df-ce1a-c919a53382ae"
      },
      "execution_count": 23,
      "outputs": [
        {
          "output_type": "stream",
          "name": "stdout",
          "text": [
            "10 defa 6-6 gelebilmesi için zarlar 448 defa atıldı.\n"
          ]
        }
      ]
    }
  ]
}