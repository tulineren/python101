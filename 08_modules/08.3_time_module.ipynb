{
  "nbformat": 4,
  "nbformat_minor": 0,
  "metadata": {
    "colab": {
      "provenance": []
    },
    "kernelspec": {
      "name": "python3",
      "display_name": "Python 3"
    },
    "language_info": {
      "name": "python"
    }
  },
  "cells": [
    {
      "cell_type": "markdown",
      "source": [
        "# **TIME MODULE**"
      ],
      "metadata": {
        "id": "TbajI-I3TP8I"
      }
    },
    {
      "cell_type": "code",
      "source": [
        "import time\n",
        "\n",
        "start = time.time()\n",
        "time.sleep(3)\n",
        "end = time.time()\n",
        "print(f\"Geçen süre: {start - end} saniye\")"
      ],
      "metadata": {
        "colab": {
          "base_uri": "https://localhost:8080/"
        },
        "id": "qK3XBPn2TUGR",
        "outputId": "ac594bed-0aba-4ebf-abc5-d3843dcb3647"
      },
      "execution_count": 7,
      "outputs": [
        {
          "output_type": "stream",
          "name": "stdout",
          "text": [
            "Geçen süre: -3.000406265258789 saniye\n"
          ]
        }
      ]
    },
    {
      "cell_type": "code",
      "source": [
        "#Sayaç Uygulaması\n",
        "import time\n",
        "\n",
        "for i in range(5,0,-1):\n",
        "  print(i)\n",
        "  time.sleep(1)\n",
        "print(\"Başla!\")"
      ],
      "metadata": {
        "colab": {
          "base_uri": "https://localhost:8080/"
        },
        "id": "CIL82Hap1IAM",
        "outputId": "c62da8ad-56dc-4941-e64f-4082af529c28"
      },
      "execution_count": 12,
      "outputs": [
        {
          "output_type": "stream",
          "name": "stdout",
          "text": [
            "5\n",
            "4\n",
            "3\n",
            "2\n",
            "1\n",
            "Başla!\n"
          ]
        }
      ]
    },
    {
      "cell_type": "code",
      "source": [
        "import time\n",
        "\n",
        "baslangic = time.time()\n",
        "print(\"Sayaç başlıyor...\\n\")\n",
        "\n",
        "for i in range(5):\n",
        "  an = time.localtime()\n",
        "  print(\"Şu an:\", time.strftime(\"%d/%m/%Y %H.%M.%S\"), an)\n",
        "  time.sleep(1)\n",
        "\n",
        "bitis = time.time()\n",
        "print(f\"Toplam geçen süre: {bitis - baslangic:.2f} saniye\")"
      ],
      "metadata": {
        "colab": {
          "base_uri": "https://localhost:8080/"
        },
        "id": "CHHSqCl23IwV",
        "outputId": "2351a38f-ab8a-42e6-a84c-978ff2796e67"
      },
      "execution_count": 16,
      "outputs": [
        {
          "output_type": "stream",
          "name": "stdout",
          "text": [
            "Sayaç başlıyor...\n",
            "\n",
            "Şu an: 13/08/2025 14.47.23 time.struct_time(tm_year=2025, tm_mon=8, tm_mday=13, tm_hour=14, tm_min=47, tm_sec=23, tm_wday=2, tm_yday=225, tm_isdst=0)\n",
            "Şu an: 13/08/2025 14.47.24 time.struct_time(tm_year=2025, tm_mon=8, tm_mday=13, tm_hour=14, tm_min=47, tm_sec=24, tm_wday=2, tm_yday=225, tm_isdst=0)\n",
            "Şu an: 13/08/2025 14.47.25 time.struct_time(tm_year=2025, tm_mon=8, tm_mday=13, tm_hour=14, tm_min=47, tm_sec=25, tm_wday=2, tm_yday=225, tm_isdst=0)\n",
            "Şu an: 13/08/2025 14.47.26 time.struct_time(tm_year=2025, tm_mon=8, tm_mday=13, tm_hour=14, tm_min=47, tm_sec=26, tm_wday=2, tm_yday=225, tm_isdst=0)\n",
            "Şu an: 13/08/2025 14.47.27 time.struct_time(tm_year=2025, tm_mon=8, tm_mday=13, tm_hour=14, tm_min=47, tm_sec=27, tm_wday=2, tm_yday=225, tm_isdst=0)\n",
            "Toplam geçen süre: 5.00 saniye\n"
          ]
        }
      ]
    }
  ]
}