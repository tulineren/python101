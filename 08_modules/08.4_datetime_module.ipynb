{
  "nbformat": 4,
  "nbformat_minor": 0,
  "metadata": {
    "colab": {
      "provenance": []
    },
    "kernelspec": {
      "name": "python3",
      "display_name": "Python 3"
    },
    "language_info": {
      "name": "python"
    }
  },
  "cells": [
    {
      "cell_type": "markdown",
      "source": [
        "# **DATETIME MODULE**"
      ],
      "metadata": {
        "id": "b3kMDSzsXtDL"
      }
    },
    {
      "cell_type": "code",
      "source": [
        "from datetime import date\n",
        "\n",
        "bugun = date.today()\n",
        "print(type(bugun))\n",
        "print(bugun)\n",
        "print(bugun.day)\n",
        "print(bugun.month)\n",
        "print(bugun.year)\n",
        "print(bugun.weekday()) #pazartesi = 0 olarak başlar\n",
        "print(bugun.isoweekday()) #pazartesi = 1 olarak başlar\n",
        "\n",
        "gecmis_tarih = date(2015,12,10)\n",
        "print(gecmis_tarih)\n",
        "\n",
        "gecen_zaman = bugun - gecmis_tarih\n",
        "print(type(gecen_zaman))\n",
        "print(gecen_zaman)\n",
        "print(gecen_zaman.days)\n",
        "print(gecen_zaman.total_seconds())"
      ],
      "metadata": {
        "colab": {
          "base_uri": "https://localhost:8080/"
        },
        "id": "cuyhAeEwXyyW",
        "outputId": "d427174d-2b82-4da2-b1d0-9326320b71dd"
      },
      "execution_count": 11,
      "outputs": [
        {
          "output_type": "stream",
          "name": "stdout",
          "text": [
            "<class 'datetime.date'>\n",
            "2025-08-14\n",
            "14\n",
            "8\n",
            "2025\n",
            "3\n",
            "4\n",
            "2015-12-10\n",
            "<class 'datetime.timedelta'>\n",
            "3535 days, 0:00:00\n",
            "3535\n",
            "305424000.0\n"
          ]
        }
      ]
    },
    {
      "cell_type": "code",
      "source": [
        "from datetime import datetime\n",
        "\n",
        "simdi = datetime.now()\n",
        "print(type(simdi))\n",
        "print(simdi)\n",
        "print(simdi.ctime())\n",
        "print(simdi.year)\n",
        "print(simdi.month)\n",
        "print(simdi.day)\n",
        "print(simdi.date())\n",
        "print(simdi.time())\n",
        "print(simdi.hour)\n",
        "print(simdi.minute)\n",
        "print(simdi.second)\n",
        "print(simdi.strftime(\"%d/%m/%Y\"))\n",
        "print(datetime.strftime(simdi, \"%d/%m/%Y\"))\n",
        "\n",
        "from datetime import timedelta\n",
        "\n"
      ],
      "metadata": {
        "colab": {
          "base_uri": "https://localhost:8080/"
        },
        "id": "9bPv6RvybNeH",
        "outputId": "8d7bac9d-987f-4188-ccaa-fb981ff29bb2"
      },
      "execution_count": 12,
      "outputs": [
        {
          "output_type": "stream",
          "name": "stdout",
          "text": [
            "<class 'datetime.datetime'>\n",
            "2025-08-14 09:01:30.284819\n",
            "Thu Aug 14 09:01:30 2025\n",
            "2025\n",
            "8\n",
            "14\n",
            "2025-08-14\n",
            "09:01:30.284819\n",
            "9\n",
            "1\n",
            "30\n",
            "14/08/2025\n",
            "14/08/2025\n"
          ]
        }
      ]
    },
    {
      "cell_type": "code",
      "source": [
        "from datetime import datetime\n",
        "from datetime import timedelta\n",
        "\n",
        "su_an = datetime.now()\n",
        "delta = timedelta(days = 10, hours = 5, minutes = 15)\n",
        "print(su_an)\n",
        "print(su_an + delta)\n",
        "print(su_an - delta)"
      ],
      "metadata": {
        "colab": {
          "base_uri": "https://localhost:8080/"
        },
        "id": "qMjj1yx5nkHM",
        "outputId": "84ec866f-aab2-41f3-d52e-cd3025127353"
      },
      "execution_count": 13,
      "outputs": [
        {
          "output_type": "stream",
          "name": "stdout",
          "text": [
            "2025-08-14 09:01:33.107750\n",
            "2025-08-24 14:16:33.107750\n",
            "2025-08-04 03:46:33.107750\n"
          ]
        }
      ]
    },
    {
      "cell_type": "code",
      "source": [
        "#1 Ocak 1901 – 31 Aralık 2000 arasındaki tüm ayların ilk gününü kontrol eder ve kaç tanesinin Pazar olduğunu sayar.\n",
        "import datetime\n",
        "\n",
        "# Gün gün kontrol\n",
        "ilk_tarih = datetime.date(1901, 1, 1)\n",
        "son_tarih = datetime.date(2000, 12, 31)\n",
        "delta = datetime.timedelta(days=1)\n",
        "\n",
        "count_gun = 0\n",
        "while ilk_tarih <= son_tarih:\n",
        "    if ilk_tarih.weekday() == 6 and ilk_tarih.day == 1:\n",
        "        count_gun += 1\n",
        "    ilk_tarih += delta\n",
        "#ilk_tarih.weekday() → Haftanın gününü sayısal verir (Pazartesi=0, Pazar=6).\n",
        "#ilk_tarih.day → Ayın kaçıncı günü olduğunu verir.\n",
        "\n",
        "# Ay ay kontrol\n",
        "count_ay = 0\n",
        "for year in range(1901, 2001):\n",
        "    for month in range(1, 13):\n",
        "        if datetime.date(year, month, 1).weekday() == 6:  # Pazar mı?\n",
        "            count_ay += 1\n",
        "\n",
        "# Sonuçları karşılaştır\n",
        "print(\"Gün gün hesap:\", count_gun)\n",
        "print(\"Ay ay hesap :\", count_ay)"
      ],
      "metadata": {
        "colab": {
          "base_uri": "https://localhost:8080/"
        },
        "id": "k8u9RUKvsLvs",
        "outputId": "15222903-e2da-4c6f-e592-a66628ce9144"
      },
      "execution_count": 14,
      "outputs": [
        {
          "output_type": "stream",
          "name": "stdout",
          "text": [
            "Gün gün hesap: 171\n",
            "Ay ay hesap : 171\n"
          ]
        }
      ]
    }
  ]
}