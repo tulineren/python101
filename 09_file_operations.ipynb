{
  "nbformat": 4,
  "nbformat_minor": 0,
  "metadata": {
    "colab": {
      "provenance": []
    },
    "kernelspec": {
      "name": "python3",
      "display_name": "Python 3"
    },
    "language_info": {
      "name": "python"
    }
  },
  "cells": [
    {
      "cell_type": "markdown",
      "source": [
        "# **FILE OPERATIONS**"
      ],
      "metadata": {
        "id": "mrMEs17-h4f3"
      }
    },
    {
      "cell_type": "code",
      "source": [
        "dosya = open(\"deneme.txt\", \"w\")\n",
        "yazdir = dosya.write(\"Hello!\") # write() metodu yazdığı karakter sayısını döndürür.\n",
        "print(yazdir)\n",
        "dosya.close()"
      ],
      "metadata": {
        "colab": {
          "base_uri": "https://localhost:8080/"
        },
        "id": "88kHaNn0iA2v",
        "outputId": "205b8216-0f89-4966-a793-fa2a3e168f86"
      },
      "execution_count": 37,
      "outputs": [
        {
          "output_type": "stream",
          "name": "stdout",
          "text": [
            "6\n"
          ]
        }
      ]
    },
    {
      "cell_type": "code",
      "source": [
        "with open(\"deneme.text\",\"w\") as dosya: # \"w\" yazma modu, dosya varsa içeriği siler, yoksa oluşturur.\n",
        "  yazdir = dosya.write(\"Python dosya işlemleri :)\")\n",
        "  print(yazdir)\n",
        "\n",
        "# with yapısı dosya işiniz bitince otomatik kapatır.\n",
        "\n",
        "with open(\"deneme.txt\", \"a\") as dosya: # \"a\" ekleme modu, dosya varsa sonuna ekler yoksa oluşturur.\n",
        "    yaz = dosya.write(\"\\nYeni satır ekledim.\")\n",
        "    print(yaz)"
      ],
      "metadata": {
        "colab": {
          "base_uri": "https://localhost:8080/"
        },
        "id": "mRZSeTYvjTSS",
        "outputId": "73e32dbc-32c3-49dc-c250-50f1f8bfb7e8"
      },
      "execution_count": 38,
      "outputs": [
        {
          "output_type": "stream",
          "name": "stdout",
          "text": [
            "25\n",
            "20\n"
          ]
        }
      ]
    },
    {
      "cell_type": "code",
      "source": [
        "# Tüm içeriği okuma\n",
        "with open(\"deneme.txt\", \"r\") as dosya:\n",
        "    veri = dosya.read()\n",
        "    print(veri)\n",
        "\n",
        "# Satır satır okuma\n",
        "with open(\"deneme.txt\", \"r\") as dosya:\n",
        "    satirlar = dosya.readlines()\n",
        "    print(satirlar)\n",
        "\n",
        "# Tek tek satır okuma\n",
        "with open(\"deneme.txt\", \"r\") as dosya:\n",
        "    for satir in dosya:\n",
        "        print(satir.strip())  # strip() boşluk/satır sonunu siler"
      ],
      "metadata": {
        "id": "H70sPr1olReK",
        "colab": {
          "base_uri": "https://localhost:8080/"
        },
        "outputId": "2aff3a98-8144-4916-c38a-9579e8f0df54"
      },
      "execution_count": 39,
      "outputs": [
        {
          "output_type": "stream",
          "name": "stdout",
          "text": [
            "Hello!\n",
            "Yeni satır ekledim.\n",
            "['Hello!\\n', 'Yeni satır ekledim.']\n",
            "Hello!\n",
            "Yeni satır ekledim.\n"
          ]
        }
      ]
    },
    {
      "cell_type": "code",
      "source": [
        "# Dosya Kontrol & Silme\n",
        "import os\n",
        "\n",
        "# Dosya var mı?\n",
        "if os.path.exists(\"deneme.txt\"):\n",
        "    print(\"Dosya mevcut.\")\n",
        "    os.remove(\"deneme.txt\")\n",
        "    print(\"Dosya silindi.\")\n",
        "else:\n",
        "    print(\"Dosya yok.\")"
      ],
      "metadata": {
        "colab": {
          "base_uri": "https://localhost:8080/"
        },
        "id": "2hrndgFgoEIa",
        "outputId": "4ff4f5a3-90ef-401c-a9ef-2c3c4533e577"
      },
      "execution_count": 40,
      "outputs": [
        {
          "output_type": "stream",
          "name": "stdout",
          "text": [
            "Dosya mevcut.\n",
            "Dosya silindi.\n"
          ]
        }
      ]
    }
  ]
}