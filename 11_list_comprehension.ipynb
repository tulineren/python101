{
  "nbformat": 4,
  "nbformat_minor": 0,
  "metadata": {
    "colab": {
      "provenance": []
    },
    "kernelspec": {
      "name": "python3",
      "display_name": "Python 3"
    },
    "language_info": {
      "name": "python"
    }
  },
  "cells": [
    {
      "cell_type": "markdown",
      "source": [
        "# **LIST COMPREHENSION**\n",
        "Python’da mevcut bir listeden veya iterable (döngüyle gezilebilen) bir veri yapısından kısa ve okunabilir bir şekilde yeni liste üretmeye yarayan bir yazım şeklidir.\n",
        "Yani, for döngüsü ve append() kullanarak yaptığımız işlemleri tek satırda daha pratik şekilde yazmamızı sağlar."
      ],
      "metadata": {
        "id": "IhCY4jGO0umj"
      }
    },
    {
      "cell_type": "code",
      "source": [
        "# Normal döngü ile\n",
        "sayilar = [1, 2, 3, 4, 5]\n",
        "kareler = []\n",
        "for s in sayilar:\n",
        "    kareler.append(s**2)\n",
        "\n",
        "print(kareler)  # [1, 4, 9, 16, 25]"
      ],
      "metadata": {
        "colab": {
          "base_uri": "https://localhost:8080/"
        },
        "id": "3_tACBRW1ivp",
        "outputId": "e4abbead-4269-436c-ed11-659968868576"
      },
      "execution_count": 2,
      "outputs": [
        {
          "output_type": "stream",
          "name": "stdout",
          "text": [
            "[1, 4, 9, 16, 25]\n"
          ]
        }
      ]
    },
    {
      "cell_type": "code",
      "source": [
        "# Aynı işlemi List Comprehension ile\n",
        "sayilar = [1, 2, 3, 4, 5]\n",
        "kareler = [s**2 for s in sayilar]\n",
        "print(kareler)  # [1, 4, 9, 16, 25]"
      ],
      "metadata": {
        "colab": {
          "base_uri": "https://localhost:8080/"
        },
        "id": "LTegttgS1izD",
        "outputId": "c34a3e1a-7ca3-4d26-c6cf-2a388e73ee5f"
      },
      "execution_count": 3,
      "outputs": [
        {
          "output_type": "stream",
          "name": "stdout",
          "text": [
            "[1, 4, 9, 16, 25]\n"
          ]
        }
      ]
    },
    {
      "cell_type": "code",
      "source": [
        "# Koşullu kullanım\n",
        "sayilar = [1, 2, 3, 4, 5, 6, 7, 8, 9]\n",
        "ciftler = [s for s in sayilar if s % 2 == 0]\n",
        "print(ciftler)  # [2, 4, 6, 8]"
      ],
      "metadata": {
        "colab": {
          "base_uri": "https://localhost:8080/"
        },
        "id": "mmCyaeQp50_u",
        "outputId": "93544416-5afc-423a-84f9-d41ed668870a"
      },
      "execution_count": 4,
      "outputs": [
        {
          "output_type": "stream",
          "name": "stdout",
          "text": [
            "[2, 4, 6, 8]\n"
          ]
        }
      ]
    },
    {
      "cell_type": "code",
      "source": [
        "# İç içe kullanım\n",
        "matris = [[1, 2], [3, 4], [5, 6]]\n",
        "düz = [eleman for satir in matris for eleman in satir]\n",
        "print(düz)  # [1, 2, 3, 4, 5, 6]"
      ],
      "metadata": {
        "colab": {
          "base_uri": "https://localhost:8080/"
        },
        "id": "4TXN-Gmc51B-",
        "outputId": "79b9f2e8-b4be-44e5-a71c-36298f004ed8"
      },
      "execution_count": 5,
      "outputs": [
        {
          "output_type": "stream",
          "name": "stdout",
          "text": [
            "[1, 2, 3, 4, 5, 6]\n"
          ]
        }
      ]
    },
    {
      "cell_type": "code",
      "source": [
        "numbers = [1,2,3,4,5,6,7,8,9]\n",
        "new_list = [n for n in numbers]\n",
        "print(new_list)"
      ],
      "metadata": {
        "colab": {
          "base_uri": "https://localhost:8080/"
        },
        "id": "mE--l5I80vL3",
        "outputId": "a5266947-9dff-45b7-da77-256deae3096b"
      },
      "execution_count": 6,
      "outputs": [
        {
          "output_type": "stream",
          "name": "stdout",
          "text": [
            "[1, 2, 3, 4, 5, 6, 7, 8, 9]\n"
          ]
        }
      ]
    },
    {
      "cell_type": "code",
      "source": [
        "numbers = [1,2,3,4]\n",
        "letters = \"abcd\"\n",
        "\n",
        "list1 = []\n",
        "for n in numbers:\n",
        "    for l in letters:\n",
        "        list1.append((n,l))\n",
        "print(list1)\n",
        "\n",
        "list2 = [(n,l) for n in numbers for l in letters]\n",
        "print(list2)"
      ],
      "metadata": {
        "colab": {
          "base_uri": "https://localhost:8080/"
        },
        "id": "0C5Tpv0Q87L_",
        "outputId": "115ae5be-2e02-47cb-89c7-0fa0d4b58cfa"
      },
      "execution_count": 10,
      "outputs": [
        {
          "output_type": "stream",
          "name": "stdout",
          "text": [
            "[(1, 'a'), (1, 'b'), (1, 'c'), (1, 'd'), (2, 'a'), (2, 'b'), (2, 'c'), (2, 'd'), (3, 'a'), (3, 'b'), (3, 'c'), (3, 'd'), (4, 'a'), (4, 'b'), (4, 'c'), (4, 'd')]\n",
            "[(1, 'a'), (1, 'b'), (1, 'c'), (1, 'd'), (2, 'a'), (2, 'b'), (2, 'c'), (2, 'd'), (3, 'a'), (3, 'b'), (3, 'c'), (3, 'd'), (4, 'a'), (4, 'b'), (4, 'c'), (4, 'd')]\n"
          ]
        }
      ]
    },
    {
      "cell_type": "code",
      "source": [
        "list1 = [1,2,3,4,5,6,7,8,9]\n",
        "list2 = [2,3,6,9,5]\n",
        "\n",
        "list3 = []\n",
        "for i in list1:\n",
        "    if i not in list2:\n",
        "        list3.append(i**2)\n",
        "print(list3)\n",
        "\n",
        "list4 = [n**2 for n in list1 if n not in list2]\n",
        "print(list4)"
      ],
      "metadata": {
        "colab": {
          "base_uri": "https://localhost:8080/"
        },
        "id": "Z2khap3uBJIk",
        "outputId": "8e6cdbdb-36d0-4e2c-aed6-c122be1f3f38"
      },
      "execution_count": 12,
      "outputs": [
        {
          "output_type": "stream",
          "name": "stdout",
          "text": [
            "[1, 16, 49, 64]\n",
            "[1, 16, 49, 64]\n"
          ]
        }
      ]
    },
    {
      "cell_type": "code",
      "source": [
        "list1 = [[1,2,3],[4,5,6,7],[8,9,10,11,12]]\n",
        "\n",
        "list2 = []\n",
        "for i in list1:\n",
        "    for j in i:\n",
        "        list2.append(j)\n",
        "print(list2)\n",
        "\n",
        "list3 = [j for i in list1 for j in i]\n",
        "print(list3)"
      ],
      "metadata": {
        "colab": {
          "base_uri": "https://localhost:8080/"
        },
        "id": "-_xpWSUtF3S3",
        "outputId": "31da9c31-4701-4a31-8610-166ea16c0881"
      },
      "execution_count": 15,
      "outputs": [
        {
          "output_type": "stream",
          "name": "stdout",
          "text": [
            "[1, 2, 3, 4, 5, 6, 7, 8, 9, 10, 11, 12]\n",
            "[1, 2, 3, 4, 5, 6, 7, 8, 9, 10, 11, 12]\n"
          ]
        }
      ]
    },
    {
      "cell_type": "code",
      "source": [
        "list_methods = []\n",
        "for i in dir(list):\n",
        "    if \"__\" not in i:\n",
        "        list_methods.append(i)\n",
        "print(list_methods)\n",
        "\n",
        "new_list = [i for i in dir(list) if \"__\" not in i]\n",
        "print(new_list)"
      ],
      "metadata": {
        "colab": {
          "base_uri": "https://localhost:8080/"
        },
        "id": "WrE4i0tFHjyq",
        "outputId": "f85a210d-bdba-4d3d-ec11-f723d4fd4d55"
      },
      "execution_count": 16,
      "outputs": [
        {
          "output_type": "stream",
          "name": "stdout",
          "text": [
            "['append', 'clear', 'copy', 'count', 'extend', 'index', 'insert', 'pop', 'remove', 'reverse', 'sort']\n",
            "['append', 'clear', 'copy', 'count', 'extend', 'index', 'insert', 'pop', 'remove', 'reverse', 'sort']\n"
          ]
        }
      ]
    }
  ]
}