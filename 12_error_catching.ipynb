{
  "nbformat": 4,
  "nbformat_minor": 0,
  "metadata": {
    "colab": {
      "provenance": []
    },
    "kernelspec": {
      "name": "python3",
      "display_name": "Python 3"
    },
    "language_info": {
      "name": "python"
    }
  },
  "cells": [
    {
      "cell_type": "code",
      "execution_count": 3,
      "metadata": {
        "colab": {
          "base_uri": "https://localhost:8080/"
        },
        "id": "46ROtJVuhc9F",
        "outputId": "3dc77398-785e-4686-8a2e-16897a22fa69"
      },
      "outputs": [
        {
          "output_type": "stream",
          "name": "stdout",
          "text": [
            "Bir sayı gir: T\n",
            "Lütfen sadece sayı girin!\n"
          ]
        }
      ],
      "source": [
        "try:\n",
        "    # Hata çıkarma ihtimali olan kod buraya yazılır\n",
        "    sayi = int(input(\"Bir sayı gir: \"))\n",
        "    print(\"Girdiğiniz sayı:\", sayi)\n",
        "\n",
        "except ValueError:\n",
        "    # Belirtilen hata olursa burası çalışır\n",
        "    print(\"Lütfen sadece sayı girin!\")"
      ]
    },
    {
      "cell_type": "code",
      "source": [
        "try:\n",
        "  bolum = 10 / int(input(\"Bir sayı giriniz: \"))\n",
        "  print(\"Sonuç: \", bolum)\n",
        "except ZeroDivisionError:\n",
        "  print(\"0'a bölünme hatası!\")\n",
        "except ValueError:\n",
        "  print(\"Lütfen sadece sayı girin!\")"
      ],
      "metadata": {
        "colab": {
          "base_uri": "https://localhost:8080/"
        },
        "id": "PvxNPRDPigbL",
        "outputId": "6f204c26-b5bf-4573-ff68-b116118dd874"
      },
      "execution_count": 6,
      "outputs": [
        {
          "output_type": "stream",
          "name": "stdout",
          "text": [
            "Bir sayı giriniz: 0\n",
            "0'a bölünme hatası!\n"
          ]
        }
      ]
    },
    {
      "cell_type": "code",
      "source": [
        "try:\n",
        "    f = open(\"dosya.txt\")\n",
        "except FileNotFoundError:\n",
        "    print(\"Dosya bulunamadı!\")\n",
        "finally:\n",
        "    print(\"İşlem bitti.\") # finally bloğu hata olsa da olmasa da her zaman çalışır:"
      ],
      "metadata": {
        "colab": {
          "base_uri": "https://localhost:8080/"
        },
        "id": "kqXL9a1ym8o0",
        "outputId": "be43de30-1858-46d2-dd9d-00340b9d9226"
      },
      "execution_count": 8,
      "outputs": [
        {
          "output_type": "stream",
          "name": "stdout",
          "text": [
            "Dosya bulunamadı!\n",
            "İşlem bitti.\n"
          ]
        }
      ]
    },
    {
      "cell_type": "code",
      "source": [
        "from ast import Index\n",
        "try:\n",
        "  a = 7\n",
        "  b = 8\n",
        "  if b == 0:\n",
        "    raise ZeroDivisionError\n",
        "  c = a/b\n",
        "  x = 4\n",
        "  d = x\n",
        "  isim = \"Ali\"\n",
        "  karakter = isim[10]\n",
        "except ZeroDivisionError:\n",
        "  print(\"0'a bölünme hatası!\")\n",
        "except NameError:\n",
        "  print(\"Bu değişken daha önce tanımlanmamış.\")\n",
        "except IndexError as i:\n",
        "  print(i)\n",
        "except Exception:\n",
        "  print(\"Bilinmeyen bir hata oluştu.\")\n",
        "\n",
        "else:\n",
        "  print(\"Herhangi bir hata bulunmadı.\")\n",
        "# Kod blokları alt alta çalışır. Dolayısıyla Exception'ı en son yazmamız gerekir."
      ],
      "metadata": {
        "colab": {
          "base_uri": "https://localhost:8080/"
        },
        "id": "nJ7cknx_nkXc",
        "outputId": "370edd1e-6778-4c95-ef00-deb8894dd7be"
      },
      "execution_count": 23,
      "outputs": [
        {
          "output_type": "stream",
          "name": "stdout",
          "text": [
            "string index out of range\n"
          ]
        }
      ]
    },
    {
      "cell_type": "code",
      "source": [
        "try:\n",
        "    y = int(input(\"Yaşınızı girin: \"))\n",
        "    if y < 0:\n",
        "        raise ValueError(\"Yaş negatif olamaz!\")\n",
        "    print(\"Yaşınız:\", y)\n",
        "\n",
        "except ValueError as e:\n",
        "    print(\"Hata:\", e)\n",
        "# raise, Python’da bilerek hata fırlatmak için kullanılır. Yani sen bir koşul gerçekleştiğinde kendi hatanı oluşturabilirsin."
      ],
      "metadata": {
        "colab": {
          "base_uri": "https://localhost:8080/"
        },
        "id": "_BmmM2Nxv8AB",
        "outputId": "ca32b1a4-a28c-4a86-8b28-d68bb4c0292c"
      },
      "execution_count": 22,
      "outputs": [
        {
          "output_type": "stream",
          "name": "stdout",
          "text": [
            "Yaşınızı girin: -39\n",
            "Hata: Yaş negatif olamaz!\n"
          ]
        }
      ]
    }
  ]
}